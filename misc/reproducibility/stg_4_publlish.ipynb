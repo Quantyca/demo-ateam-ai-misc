{
 "cells": [
  {
   "cell_type": "markdown",
   "metadata": {},
   "source": [
    "# Rossmann:  all (Stage4 - publish)"
   ]
  },
  {
   "cell_type": "markdown",
   "metadata": {},
   "source": [
    "## Intro"
   ]
  },
  {
   "cell_type": "markdown",
   "metadata": {},
   "source": [
    "Keggle Kernel: https://www.kaggle.com/paso84/xgboost-in-python-with-rmspe"
   ]
  },
  {
   "cell_type": "markdown",
   "metadata": {},
   "source": [
    "## Usage"
   ]
  },
  {
   "cell_type": "markdown",
   "metadata": {},
   "source": [
    "**Input parameters**\n",
    "1. MODEL_TYPE: xgb or rf\n",
    "\n",
    "**Output**\n",
    "1. Publish data on mlflow server\n"
   ]
  },
  {
   "cell_type": "markdown",
   "metadata": {},
   "source": [
    "## Setup env"
   ]
  },
  {
   "cell_type": "markdown",
   "metadata": {},
   "source": [
    "### Set global variables"
   ]
  },
  {
   "cell_type": "code",
   "execution_count": 28,
   "metadata": {},
   "outputs": [
    {
     "name": "stdout",
     "output_type": "stream",
     "text": [
      "/home/andrea/Sviluppi/git/qteams-analytics/ml-dvc/notebooks\r\n"
     ]
    }
   ],
   "source": [
    "!pwd"
   ]
  },
  {
   "cell_type": "code",
   "execution_count": 29,
   "metadata": {},
   "outputs": [],
   "source": [
    "DATASETS_DIR = '../data'\n",
    "MODELS_DIR = '../models'\n",
    "METRICS_DIR = '../metrics'\n",
    "NOTEBOOK_OUT_DIR = '../notebooks/outs'"
   ]
  },
  {
   "cell_type": "code",
   "execution_count": 30,
   "metadata": {
    "tags": [
     "parameters"
    ]
   },
   "outputs": [],
   "source": [
    "# this cell is tagged `parameters`\n",
    "MODEL_TYPE = 'rf'"
   ]
  },
  {
   "cell_type": "code",
   "execution_count": 31,
   "metadata": {},
   "outputs": [],
   "source": [
    "MODEL_PKL = MODELS_DIR + '/model-' + MODEL_TYPE + '.pkl'\n",
    "METRICS_OUT = METRICS_DIR + '/' + MODEL_TYPE + '.metrics'\n",
    "STG_1_OUT_NBK = NOTEBOOK_OUT_DIR + '/stg_1_prepare_out.ipynb'\n",
    "STG_2_OUT_NBK = NOTEBOOK_OUT_DIR + '/stg_2_train_' + MODEL_TYPE + '_out.ipynb'\n",
    "STG_3_OUT_NBK = NOTEBOOK_OUT_DIR + '/stg_3_evaluate_'+ MODEL_TYPE + '_out.ipynb'"
   ]
  },
  {
   "cell_type": "code",
   "execution_count": 32,
   "metadata": {},
   "outputs": [
    {
     "name": "stdout",
     "output_type": "stream",
     "text": [
      "rmspe(train): 0.026728006934463807\r\n",
      "rmspe(valid): 0.06889040320666849\r\n"
     ]
    }
   ],
   "source": [
    "!cat {METRICS_OUT}"
   ]
  },
  {
   "cell_type": "markdown",
   "metadata": {},
   "source": [
    "### Install required packages"
   ]
  },
  {
   "cell_type": "markdown",
   "metadata": {},
   "source": [
    "Se il notebook è eseguito su una macchina pulita installare i pacchetti necessari con i seguenti comandi ..."
   ]
  },
  {
   "cell_type": "code",
   "execution_count": 33,
   "metadata": {},
   "outputs": [],
   "source": [
    "#!curl https://raw.githubusercontent.com/andrea-gioia/boostrap.ai/master/???\t | bash"
   ]
  },
  {
   "cell_type": "code",
   "execution_count": 34,
   "metadata": {},
   "outputs": [],
   "source": [
    "#!pip list"
   ]
  },
  {
   "cell_type": "markdown",
   "metadata": {},
   "source": [
    "Se il notebook è eseguito all'interno di un ambiente virtuale conda con tutti i pacchetti specificati nel file di requirements già installati fare solo un check eseguendo i seguenti comandi ..."
   ]
  },
  {
   "cell_type": "markdown",
   "metadata": {},
   "source": [
    "###  Dump environment"
   ]
  },
  {
   "cell_type": "code",
   "execution_count": 2,
   "metadata": {},
   "outputs": [
    {
     "name": "stdout",
     "output_type": "stream",
     "text": [
      "Python 3.7.3\r\n"
     ]
    }
   ],
   "source": [
    "!python -V"
   ]
  },
  {
   "cell_type": "code",
   "execution_count": 3,
   "metadata": {},
   "outputs": [
    {
     "name": "stdout",
     "output_type": "stream",
     "text": [
      "# conda environments:\r\n",
      "#\r\n",
      "base                     /opt/conda\r\n",
      "custom                *  /opt/conda/envs/custom\r\n",
      "\r\n"
     ]
    }
   ],
   "source": [
    "!conda env list"
   ]
  },
  {
   "cell_type": "code",
   "execution_count": 4,
   "metadata": {},
   "outputs": [
    {
     "name": "stdout",
     "output_type": "stream",
     "text": [
      "name: custom\n",
      "channels:\n",
      "  - pytorch\n",
      "  - fastai\n",
      "  - conda-forge\n",
      "  - defaults\n",
      "dependencies:\n",
      "  - _py-xgboost-mutex=2.0=cpu_0\n",
      "  - asn1crypto=0.24.0=py37_0\n",
      "  - attrs=19.1.0=py37_1\n",
      "  - backcall=0.1.0=py37_0\n",
      "  - beautifulsoup4=4.7.1=py37_1\n",
      "  - blas=1.0=mkl\n",
      "  - bleach=3.1.0=py37_0\n",
      "  - bottleneck=1.2.1=py37h035aef0_1\n",
      "  - ca-certificates=2019.5.15=0\n",
      "  - certifi=2019.3.9=py37_0\n",
      "  - cffi=1.12.3=py37h2e261b9_0\n",
      "  - chardet=3.0.4=py37_1\n",
      "  - cryptography=2.6.1=py37h1ba5d50_0\n",
      "  - cudatoolkit=10.0.130=0\n",
      "  - cycler=0.10.0=py37_0\n",
      "  - cymem=2.0.2=py37hfd86e86_0\n",
      "  - cytoolz=0.9.0.1=py37h14c3975_1\n",
      "  - dataclasses=0.6=py_0\n",
      "  - dbus=1.13.6=h746ee38_0\n",
      "  - decorator=4.4.0=py37_1\n",
      "  - defusedxml=0.6.0=py_0\n",
      "  - dill=0.2.9=py37_0\n",
      "  - entrypoints=0.3=py37_0\n",
      "  - expat=2.2.6=he6710b0_0\n",
      "  - fastai=1.0.53.post2=1\n",
      "  - fastprogress=0.1.21=py_0\n",
      "  - fontconfig=2.13.0=h9420a91_0\n",
      "  - freetype=2.9.1=h8a8886c_1\n",
      "  - glib=2.56.2=hd408876_0\n",
      "  - gmp=6.1.2=h6c8ec71_1\n",
      "  - gst-plugins-base=1.14.0=hbbd80ab_1\n",
      "  - gstreamer=1.14.0=hb453b48_1\n",
      "  - icu=58.2=h9c2bf20_1\n",
      "  - idna=2.8=py37_0\n",
      "  - intel-openmp=2019.4=243\n",
      "  - ipykernel=5.1.1=py37h39e3cac_0\n",
      "  - ipython=7.5.0=py37h39e3cac_0\n",
      "  - ipython_genutils=0.2.0=py37_0\n",
      "  - ipywidgets=7.4.2=py37_0\n",
      "  - jedi=0.13.3=py37_0\n",
      "  - jinja2=2.10.1=py37_0\n",
      "  - jpeg=9b=h024ee3a_2\n",
      "  - jsonschema=3.0.1=py37_0\n",
      "  - jupyter=1.0.0=py37_7\n",
      "  - jupyter_client=5.2.4=py37_0\n",
      "  - jupyter_console=6.0.0=py37_0\n",
      "  - jupyter_core=4.4.0=py37_0\n",
      "  - kiwisolver=1.1.0=py37he6710b0_0\n",
      "  - libedit=3.1.20181209=hc058e9b_0\n",
      "  - libffi=3.2.1=hd88cf55_4\n",
      "  - libgcc-ng=9.1.0=hdf63c60_0\n",
      "  - libgfortran-ng=7.3.0=hdf63c60_0\n",
      "  - libpng=1.6.37=hbc83047_0\n",
      "  - libsodium=1.0.16=h1bed415_0\n",
      "  - libstdcxx-ng=9.1.0=hdf63c60_0\n",
      "  - libtiff=4.0.10=h2733197_2\n",
      "  - libuuid=1.0.3=h1bed415_2\n",
      "  - libxcb=1.13=h1bed415_1\n",
      "  - libxgboost=0.80=hf484d3e_1001\n",
      "  - libxml2=2.9.9=he19cac6_0\n",
      "  - markupsafe=1.1.1=py37h7b6447c_0\n",
      "  - matplotlib=2.2.3=py37hb69df0a_0\n",
      "  - mistune=0.8.4=py37h7b6447c_0\n",
      "  - mkl=2018.0.3=1\n",
      "  - mkl_fft=1.0.6=py37h7dd41cf_0\n",
      "  - mkl_random=1.0.1=py37h4414c95_1\n",
      "  - msgpack-numpy=0.4.3.2=py37_0\n",
      "  - msgpack-python=0.6.1=py37hfd86e86_1\n",
      "  - murmurhash=1.0.2=py37he6710b0_0\n",
      "  - nbconvert=5.5.0=py_0\n",
      "  - nbformat=4.4.0=py37_0\n",
      "  - ncurses=6.1=he6710b0_1\n",
      "  - ninja=1.9.0=py37hfd86e86_0\n",
      "  - notebook=5.7.8=py37_0\n",
      "  - numexpr=2.6.8=py37hd89afb7_0\n",
      "  - numpy=1.15.2=py37h1d66e8a_1\n",
      "  - numpy-base=1.15.2=py37h81de0dd_1\n",
      "  - nvidia-ml-py3=7.352.0=py_0\n",
      "  - olefile=0.46=py37_0\n",
      "  - openssl=1.1.1c=h7b6447c_1\n",
      "  - packaging=19.0=py37_0\n",
      "  - pandas=0.23.4=py37h04863e7_0\n",
      "  - pandoc=2.2.3.2=0\n",
      "  - pandocfilters=1.4.2=py37_1\n",
      "  - parso=0.4.0=py_0\n",
      "  - patsy=0.5.1=py37_0\n",
      "  - pcre=8.43=he6710b0_0\n",
      "  - pexpect=4.7.0=py37_0\n",
      "  - pickleshare=0.7.5=py37_0\n",
      "  - pillow=6.0.0=py37h34e0f95_0\n",
      "  - pip=19.1.1=py37_0\n",
      "  - plac=0.9.6=py37_0\n",
      "  - preshed=2.0.1=py37he6710b0_0\n",
      "  - prometheus_client=0.6.0=py37_0\n",
      "  - prompt_toolkit=2.0.9=py37_0\n",
      "  - ptyprocess=0.6.0=py37_0\n",
      "  - py-xgboost=0.80=py37hf484d3e_1001\n",
      "  - pycparser=2.19=py37_0\n",
      "  - pygments=2.4.2=py_0\n",
      "  - pyopenssl=19.0.0=py37_0\n",
      "  - pyparsing=2.4.0=py_0\n",
      "  - pyqt=5.9.2=py37h05f1152_2\n",
      "  - pyrsistent=0.14.11=py37h7b6447c_0\n",
      "  - pysocks=1.7.0=py37_0\n",
      "  - python=3.7.3=h0371630_0\n",
      "  - python-dateutil=2.8.0=py37_0\n",
      "  - pytorch=1.1.0=py3.7_cuda10.0.130_cudnn7.5.1_0\n",
      "  - pytz=2019.1=py_0\n",
      "  - pyyaml=5.1=py37h7b6447c_0\n",
      "  - pyzmq=18.0.0=py37he6710b0_0\n",
      "  - qt=5.9.7=h5867ecd_1\n",
      "  - qtconsole=4.5.1=py_0\n",
      "  - readline=7.0=h7b6447c_5\n",
      "  - regex=2018.01.10=py37h14c3975_1000\n",
      "  - requests=2.22.0=py37_0\n",
      "  - scikit-learn=0.20.0=py37h4989274_1\n",
      "  - scipy=1.1.0=py37hfa4b5c9_1\n",
      "  - seaborn=0.9.0=py37_0\n",
      "  - send2trash=1.5.0=py37_0\n",
      "  - setuptools=41.0.1=py37_0\n",
      "  - sip=4.19.8=py37hf484d3e_0\n",
      "  - six=1.12.0=py37_0\n",
      "  - soupsieve=1.8=py37_0\n",
      "  - spacy=2.0.18=py37hfc679d8_0\n",
      "  - sqlite=3.28.0=h7b6447c_0\n",
      "  - statsmodels=0.9.0=py37h035aef0_0\n",
      "  - terminado=0.8.2=py37_0\n",
      "  - testpath=0.4.2=py37_0\n",
      "  - thinc=6.12.1=py37h637b7d7_1000\n",
      "  - tk=8.6.8=hbc83047_0\n",
      "  - toolz=0.9.0=py37_0\n",
      "  - torchvision=0.3.0=py37_cu10.0.130_1\n",
      "  - tornado=6.0.2=py37h7b6447c_0\n",
      "  - tqdm=4.32.1=py_0\n",
      "  - traitlets=4.3.2=py37_0\n",
      "  - typing=3.6.4=py37_0\n",
      "  - ujson=1.35=py37h14c3975_0\n",
      "  - unzip=6.0=h611a1e1_0\n",
      "  - urllib3=1.24.2=py37_0\n",
      "  - wcwidth=0.1.7=py37_0\n",
      "  - webencodings=0.5.1=py37_1\n",
      "  - wheel=0.33.4=py37_0\n",
      "  - widgetsnbextension=3.4.2=py37_0\n",
      "  - wrapt=1.10.11=py37h14c3975_2\n",
      "  - xgboost=0.80=py37hf484d3e_1001\n",
      "  - xz=5.2.4=h14c3975_4\n",
      "  - yaml=0.1.7=had09818_2\n",
      "  - zeromq=4.3.1=he6710b0_3\n",
      "  - zlib=1.2.11=h7b6447c_3\n",
      "  - zstd=1.3.7=h0b5b093_0\n",
      "prefix: /opt/conda/envs/custom\n",
      "\n",
      "\n",
      "Note: you may need to restart the kernel to use updated packages.\n"
     ]
    }
   ],
   "source": [
    "conda env export"
   ]
  },
  {
   "cell_type": "code",
   "execution_count": 5,
   "metadata": {},
   "outputs": [],
   "source": [
    "!pip list | grep mlflow"
   ]
  },
  {
   "cell_type": "code",
   "execution_count": null,
   "metadata": {},
   "outputs": [],
   "source": [
    "#!conda list"
   ]
  },
  {
   "cell_type": "code",
   "execution_count": null,
   "metadata": {},
   "outputs": [],
   "source": [
    "#!pip list"
   ]
  },
  {
   "cell_type": "markdown",
   "metadata": {},
   "source": [
    "### Import required packages"
   ]
  },
  {
   "cell_type": "code",
   "execution_count": 38,
   "metadata": {},
   "outputs": [
    {
     "name": "stdout",
     "output_type": "stream",
     "text": [
      "The autoreload extension is already loaded. To reload it, use:\n",
      "  %reload_ext autoreload\n"
     ]
    }
   ],
   "source": [
    "%load_ext autoreload\n",
    "%autoreload 2\n",
    "\n",
    "%matplotlib inline"
   ]
  },
  {
   "cell_type": "code",
   "execution_count": 7,
   "metadata": {},
   "outputs": [
    {
     "ename": "ModuleNotFoundError",
     "evalue": "No module named 'mlflow'",
     "output_type": "error",
     "traceback": [
      "\u001b[0;31m\u001b[0m",
      "\u001b[0;31mModuleNotFoundError\u001b[0mTraceback (most recent call last)",
      "\u001b[0;32m<ipython-input-7-5a98194434b9>\u001b[0m in \u001b[0;36m<module>\u001b[0;34m\u001b[0m\n\u001b[1;32m      3\u001b[0m \u001b[0;32mimport\u001b[0m \u001b[0msys\u001b[0m\u001b[0;34m\u001b[0m\u001b[0;34m\u001b[0m\u001b[0m\n\u001b[1;32m      4\u001b[0m \u001b[0;34m\u001b[0m\u001b[0m\n\u001b[0;32m----> 5\u001b[0;31m \u001b[0;32mimport\u001b[0m \u001b[0mmlflow\u001b[0m\u001b[0;34m\u001b[0m\u001b[0;34m\u001b[0m\u001b[0m\n\u001b[0m\u001b[1;32m      6\u001b[0m \u001b[0;32mimport\u001b[0m \u001b[0mmlflow\u001b[0m\u001b[0;34m.\u001b[0m\u001b[0msklearn\u001b[0m\u001b[0;34m\u001b[0m\u001b[0;34m\u001b[0m\u001b[0m\n",
      "\u001b[0;31mModuleNotFoundError\u001b[0m: No module named 'mlflow'"
     ]
    }
   ],
   "source": [
    "from fastai.imports import *\n",
    "\n",
    "import sys\n",
    "\n",
    "import mlflow\n",
    "import mlflow.sklearn"
   ]
  },
  {
   "cell_type": "markdown",
   "metadata": {},
   "source": [
    "### Set random seed"
   ]
  },
  {
   "cell_type": "code",
   "execution_count": 6,
   "metadata": {},
   "outputs": [
    {
     "ename": "NameError",
     "evalue": "name 'random' is not defined",
     "output_type": "error",
     "traceback": [
      "\u001b[0;31m\u001b[0m",
      "\u001b[0;31mNameError\u001b[0mTraceback (most recent call last)",
      "\u001b[0;32m<ipython-input-6-48fc9748b254>\u001b[0m in \u001b[0;36m<module>\u001b[0;34m\u001b[0m\n\u001b[1;32m      4\u001b[0m \u001b[0;34m\u001b[0m\u001b[0m\n\u001b[1;32m      5\u001b[0m \u001b[0;31m# Set `python` built-in pseudo-random generator at a fixed value:\u001b[0m\u001b[0;34m\u001b[0m\u001b[0;34m\u001b[0m\u001b[0;34m\u001b[0m\u001b[0m\n\u001b[0;32m----> 6\u001b[0;31m \u001b[0mrandom\u001b[0m\u001b[0;34m.\u001b[0m\u001b[0mseed\u001b[0m\u001b[0;34m(\u001b[0m\u001b[0mseed_value\u001b[0m\u001b[0;34m)\u001b[0m\u001b[0;34m\u001b[0m\u001b[0;34m\u001b[0m\u001b[0m\n\u001b[0m\u001b[1;32m      7\u001b[0m \u001b[0;34m\u001b[0m\u001b[0m\n\u001b[1;32m      8\u001b[0m \u001b[0;31m# Set `numpy` pseudo-random generator at a fixed value:\u001b[0m\u001b[0;34m\u001b[0m\u001b[0;34m\u001b[0m\u001b[0;34m\u001b[0m\u001b[0m\n",
      "\u001b[0;31mNameError\u001b[0m: name 'random' is not defined"
     ]
    }
   ],
   "source": [
    "# Set a seed value: \n",
    "seed_value= 42  \n",
    "\n",
    "\n",
    "# Set `python` built-in pseudo-random generator at a fixed value: \n",
    "random.seed(seed_value) \n",
    "\n",
    "# Set `numpy` pseudo-random generator at a fixed value:\n",
    "np.random.seed(seed_value) \n",
    "\n",
    "# Set `torch` pseudo-random generator at a fixed value:\n",
    "torch.manual_seed(seed_value)\n",
    "torch.backends.cudnn.deterministic = True \n",
    "torch.backends.cudnn.benchmark = False\n",
    "    \n",
    "if torch.cuda.is_available():\n",
    "    torch.cuda.manual_seed(seed_value)\n",
    "    torch.cuda.manual_seed_all(seed_value)"
   ]
  },
  {
   "cell_type": "markdown",
   "metadata": {},
   "source": [
    "### Define shared functions"
   ]
  },
  {
   "cell_type": "code",
   "execution_count": 8,
   "metadata": {},
   "outputs": [],
   "source": [
    "# nope"
   ]
  },
  {
   "cell_type": "markdown",
   "metadata": {},
   "source": [
    "### Stage 3: publish"
   ]
  },
  {
   "cell_type": "markdown",
   "metadata": {},
   "source": [
    "### Prepare parameters"
   ]
  },
  {
   "cell_type": "code",
   "execution_count": 40,
   "metadata": {},
   "outputs": [],
   "source": [
    "# Nothings to do ...\n",
    "    "
   ]
  },
  {
   "cell_type": "markdown",
   "metadata": {},
   "source": [
    "### Prepare metrics"
   ]
  },
  {
   "cell_type": "code",
   "execution_count": 41,
   "metadata": {},
   "outputs": [
    {
     "name": "stdout",
     "output_type": "stream",
     "text": [
      "rmspe_train 0.026728006934463807\n",
      "rmspe_valid 0.06889040320666849\n"
     ]
    }
   ],
   "source": [
    "with open(METRICS_OUT) as f:\n",
    "    content = f.readlines()\n",
    "  \n",
    "metrics = [];\n",
    "for line in content:\n",
    "    metrics.append( [line.split(':')[0].strip().replace(\"(\", \"_\").replace(\")\", \"\"), float(line.split(':')[1].strip())] ) ;\n",
    "\n",
    "for m in metrics:   \n",
    "    print(m[0], m[1])"
   ]
  },
  {
   "cell_type": "markdown",
   "metadata": {},
   "source": [
    "### Prepare artifacts"
   ]
  },
  {
   "cell_type": "code",
   "execution_count": 42,
   "metadata": {
    "scrolled": true
   },
   "outputs": [],
   "source": [
    "# Nothings to do ...\n",
    "    "
   ]
  },
  {
   "cell_type": "code",
   "execution_count": 43,
   "metadata": {},
   "outputs": [],
   "source": [
    "# Useful for multiple runs (only doing one run in this sample notebook)    \n",
    "with mlflow.start_run():\n",
    "    for m in metrics:   \n",
    "        mlflow.log_metric(m[0], m[1])\n",
    "    mlflow.log_param(\"model_type\", MODEL_TYPE)\n",
    "    mlflow.log_artifact(STG_1_OUT_NBK)\n",
    "    mlflow.log_artifact(STG_2_OUT_NBK)\n",
    "    mlflow.log_artifact(STG_3_OUT_NBK)\n",
    "    mlflow.log_artifact(STG_1_OUT_NBK)\n",
    "    mlflow.log_artifact(MODEL_PKL)"
   ]
  },
  {
   "cell_type": "code",
   "execution_count": null,
   "metadata": {},
   "outputs": [],
   "source": [
    "# FINE"
   ]
  }
 ],
 "metadata": {
  "kernelspec": {
   "display_name": "Python 3",
   "language": "python",
   "name": "python3"
  },
  "language_info": {
   "codemirror_mode": {
    "name": "ipython",
    "version": 3
   },
   "file_extension": ".py",
   "mimetype": "text/x-python",
   "name": "python",
   "nbconvert_exporter": "python",
   "pygments_lexer": "ipython3",
   "version": "3.7.3"
  }
 },
 "nbformat": 4,
 "nbformat_minor": 2
}
