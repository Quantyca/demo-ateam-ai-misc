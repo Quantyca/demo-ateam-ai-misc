{
 "cells": [
  {
   "cell_type": "code",
   "execution_count": 1,
   "metadata": {},
   "outputs": [
    {
     "data": {
      "application/javascript": [
       "IPython.notebook.set_autosave_interval(0)"
      ]
     },
     "metadata": {},
     "output_type": "display_data"
    },
    {
     "name": "stdout",
     "output_type": "stream",
     "text": [
      "Autosave disabled\n"
     ]
    }
   ],
   "source": [
    "%autosave 0"
   ]
  },
  {
   "cell_type": "markdown",
   "metadata": {
    "colab_type": "text",
    "id": "AZRZxkhYsjTw"
   },
   "source": [
    "# Rossmann: Random Forest (Stage2 - Train)"
   ]
  },
  {
   "cell_type": "markdown",
   "metadata": {},
   "source": [
    "## Intro"
   ]
  },
  {
   "cell_type": "markdown",
   "metadata": {
    "colab_type": "text",
    "id": "1FgvsO8btZbA"
   },
   "source": [
    "Keggle competition: [Rossmann Store Sales](https://www.kaggle.com/c/rossmann-store-sales)"
   ]
  },
  {
   "cell_type": "markdown",
   "metadata": {},
   "source": [
    "## Usage"
   ]
  },
  {
   "cell_type": "markdown",
   "metadata": {},
   "source": [
    "**Input parameters**\n",
    "1. PROCESSED_TRAIN_CSV:The name of the file used to store the processed train data\n",
    "1. MODEL_PKL: The output file used to store the generated model\n",
    "\n",
    "**Output**\n",
    "1. A file that store the generated model serialized with pickle"
   ]
  },
  {
   "cell_type": "markdown",
   "metadata": {
    "colab_type": "text",
    "id": "x6kx9bSPw565"
   },
   "source": [
    "## Setup env"
   ]
  },
  {
   "cell_type": "markdown",
   "metadata": {},
   "source": [
    "### Set global variables"
   ]
  },
  {
   "cell_type": "code",
   "execution_count": 2,
   "metadata": {},
   "outputs": [
    {
     "name": "stdout",
     "output_type": "stream",
     "text": [
      "/opt/shared/notebooks\r\n"
     ]
    }
   ],
   "source": [
    "!pwd"
   ]
  },
  {
   "cell_type": "code",
   "execution_count": 3,
   "metadata": {},
   "outputs": [],
   "source": [
    "DATASETS_DIR = '../data'\n",
    "MODELS_DIR = '../models'"
   ]
  },
  {
   "cell_type": "code",
   "execution_count": 4,
   "metadata": {
    "tags": [
     "parameters"
    ]
   },
   "outputs": [],
   "source": [
    "# this cell is tagged `parameters`\n",
    "PROCESSED_TRAIN_CSV = DATASETS_DIR + '/processed/tst-train.csv'\n",
    "MODEL_PKL = MODELS_DIR + '/tst-model.pkl'"
   ]
  },
  {
   "cell_type": "code",
   "execution_count": 5,
   "metadata": {},
   "outputs": [
    {
     "name": "stdout",
     "output_type": "stream",
     "text": [
      "  1017210 174831981 ../data/processed/tst-train.csv\r\n"
     ]
    }
   ],
   "source": [
    "!wc -lc {PROCESSED_TRAIN_CSV} # show lines & bytes count"
   ]
  },
  {
   "cell_type": "markdown",
   "metadata": {},
   "source": [
    "###  Install required packages"
   ]
  },
  {
   "cell_type": "markdown",
   "metadata": {},
   "source": [
    "Se il notebook è eseguito su una macchina pulita installare i pacchetti necessari con i seguenti comandi ..."
   ]
  },
  {
   "cell_type": "code",
   "execution_count": 6,
   "metadata": {
    "colab": {
     "base_uri": "https://localhost:8080/",
     "height": 3318
    },
    "colab_type": "code",
    "id": "s_dsvbNgtkUZ",
    "outputId": "be017c3a-5696-4a5d-ed31-f8a4a2a7176a"
   },
   "outputs": [],
   "source": [
    "#!curl https://raw.githubusercontent.com/andrea-gioia/boostrap.ai/master/fastai07colab\t | bash"
   ]
  },
  {
   "cell_type": "code",
   "execution_count": 7,
   "metadata": {},
   "outputs": [],
   "source": [
    "#!pip list"
   ]
  },
  {
   "cell_type": "markdown",
   "metadata": {},
   "source": [
    "Se il notebook è eseguito all'interno di un ambiente virtuale conda con tutti i pacchetti specificati nel file di requirements già installati fare solo un check eseguendo i seguenti comandi ..."
   ]
  },
  {
   "cell_type": "code",
   "execution_count": 8,
   "metadata": {},
   "outputs": [
    {
     "name": "stdout",
     "output_type": "stream",
     "text": [
      "# conda environments:\r\n",
      "#\r\n",
      "base                     /opt/conda\r\n",
      "custom                *  /opt/conda/envs/custom\r\n",
      "\r\n"
     ]
    }
   ],
   "source": [
    "!conda env list"
   ]
  },
  {
   "cell_type": "code",
   "execution_count": 9,
   "metadata": {},
   "outputs": [
    {
     "name": "stdout",
     "output_type": "stream",
     "text": [
      "Python 3.7.4\r\n"
     ]
    }
   ],
   "source": [
    "!python -V"
   ]
  },
  {
   "cell_type": "code",
   "execution_count": 10,
   "metadata": {},
   "outputs": [],
   "source": [
    "#!conda list"
   ]
  },
  {
   "cell_type": "markdown",
   "metadata": {},
   "source": [
    "###  Dump environment"
   ]
  },
  {
   "cell_type": "code",
   "execution_count": 11,
   "metadata": {},
   "outputs": [
    {
     "name": "stdout",
     "output_type": "stream",
     "text": [
      "Python 3.7.4\r\n"
     ]
    }
   ],
   "source": [
    "!python -V"
   ]
  },
  {
   "cell_type": "code",
   "execution_count": 12,
   "metadata": {},
   "outputs": [
    {
     "name": "stdout",
     "output_type": "stream",
     "text": [
      "# conda environments:\r\n",
      "#\r\n",
      "base                     /opt/conda\r\n",
      "custom                *  /opt/conda/envs/custom\r\n",
      "\r\n"
     ]
    }
   ],
   "source": [
    "!conda env list"
   ]
  },
  {
   "cell_type": "code",
   "execution_count": 13,
   "metadata": {},
   "outputs": [],
   "source": [
    "#!conda list"
   ]
  },
  {
   "cell_type": "code",
   "execution_count": 14,
   "metadata": {},
   "outputs": [],
   "source": [
    "#!pip list"
   ]
  },
  {
   "cell_type": "markdown",
   "metadata": {},
   "source": [
    "### Import packagest"
   ]
  },
  {
   "cell_type": "code",
   "execution_count": 15,
   "metadata": {
    "colab": {},
    "colab_type": "code",
    "id": "yfUVWurtwFJH"
   },
   "outputs": [],
   "source": [
    "%load_ext autoreload\n",
    "%autoreload 2\n",
    "\n",
    "%matplotlib inline"
   ]
  },
  {
   "cell_type": "code",
   "execution_count": 18,
   "metadata": {
    "colab": {},
    "colab_type": "code",
    "id": "55qL3LomwGAa"
   },
   "outputs": [],
   "source": [
    "from fastai.imports import *\n",
    "#from fastai.structured import *\n",
    "\n",
    "#from pandas_summary import DataFrameSummary\n",
    "from sklearn import model_selection\n",
    "from sklearn.ensemble import RandomForestRegressor, RandomForestClassifier\n",
    "from IPython.display import display\n",
    "\n",
    "from sklearn import metrics"
   ]
  },
  {
   "cell_type": "markdown",
   "metadata": {},
   "source": [
    "### Set random seed"
   ]
  },
  {
   "cell_type": "code",
   "execution_count": 19,
   "metadata": {},
   "outputs": [],
   "source": [
    "# Set a seed value: \n",
    "seed_value= 42  \n",
    "\n",
    "\n",
    "# Set `python` built-in pseudo-random generator at a fixed value: \n",
    "random.seed(seed_value) \n",
    "\n",
    "# Set `numpy` pseudo-random generator at a fixed value:\n",
    "np.random.seed(seed_value) \n",
    "\n",
    "# Set `torch` pseudo-random generator at a fixed value:\n",
    "torch.manual_seed(seed_value)\n",
    "torch.backends.cudnn.deterministic = True \n",
    "torch.backends.cudnn.benchmark = False\n",
    "    \n",
    "if torch.cuda.is_available():\n",
    "    torch.cuda.manual_seed(seed_value)\n",
    "    torch.cuda.manual_seed_all(seed_value)"
   ]
  },
  {
   "cell_type": "markdown",
   "metadata": {},
   "source": [
    "### Define shared functions"
   ]
  },
  {
   "cell_type": "code",
   "execution_count": 20,
   "metadata": {},
   "outputs": [],
   "source": [
    "def display_all(df):\n",
    "    with pd.option_context(\"display.max_rows\", 1000, \"display.max_columns\", 1000): \n",
    "        display(df)"
   ]
  },
  {
   "cell_type": "markdown",
   "metadata": {
    "colab_type": "text",
    "id": "0XkW_Tzj8lm1"
   },
   "source": [
    "## Stage 2: train"
   ]
  },
  {
   "cell_type": "markdown",
   "metadata": {},
   "source": [
    "### Define loss functions"
   ]
  },
  {
   "cell_type": "code",
   "execution_count": 21,
   "metadata": {},
   "outputs": [],
   "source": [
    "def rmse(p,a): return math.sqrt(((a-p)**2).mean())\n",
    "\n",
    "# ritorna un vettore w in cui w_i = y_i^-2 se i!=0, 0 altrimnti\n",
    "# serve per ignorare dalla misura finale i casi in cui la variabile y da predirre e nulla\n",
    "def toWeight(y):\n",
    "    w = np.zeros(y.shape, dtype=float)\n",
    "    ind = y != 0\n",
    "    w[ind] = 1./(y[ind]**2)\n",
    "    return w\n",
    "\n",
    "\n",
    "def rmspe(p, a):\n",
    "    w = toWeight(a)\n",
    "    rmspe = np.sqrt(np.mean( w * (a - p)**2 ))\n",
    "    return rmspe"
   ]
  },
  {
   "cell_type": "markdown",
   "metadata": {
    "colab_type": "text",
    "id": "_xBYr-k4IhXC"
   },
   "source": [
    "### Fill training set and validation set"
   ]
  },
  {
   "cell_type": "code",
   "execution_count": 22,
   "metadata": {
    "colab": {
     "base_uri": "https://localhost:8080/",
     "height": 51
    },
    "colab_type": "code",
    "id": "fk798Gqt99Iy",
    "outputId": "ebda2eac-a2a0-44ae-e099-bd9ade140b5a"
   },
   "outputs": [
    {
     "name": "stdout",
     "output_type": "stream",
     "text": [
      "The input data frame ../data/processed/tst-train.csv size is (1017209, 37)\n",
      "\n"
     ]
    }
   ],
   "source": [
    "df_processed_train = pd.read_csv(PROCESSED_TRAIN_CSV)\n",
    "print('The input data frame {} size is {}\\n'.format(PROCESSED_TRAIN_CSV, df_processed_train.shape))"
   ]
  },
  {
   "cell_type": "markdown",
   "metadata": {},
   "source": [
    "In time series data, cross-validation is not random. Instead, our holdout data is generally the most recent data, as it would be in real application. This issue is discussed in detail in [this post](https://www.fast.ai/2017/11/13/validation-sets/) on our web site.\n",
    "\n",
    "One approach is to take the last 25% of rows (sorted by date) as our validation set."
   ]
  },
  {
   "cell_type": "code",
   "execution_count": 23,
   "metadata": {},
   "outputs": [],
   "source": [
    "#display_all(df_processed_train.tail().T)"
   ]
  },
  {
   "cell_type": "code",
   "execution_count": 24,
   "metadata": {},
   "outputs": [],
   "source": [
    "df_processed_train = df_processed_train.loc[:, df_processed_train.columns != 'Date']\n",
    "df_train, df_valid = model_selection.train_test_split(df_processed_train, test_size=.25, shuffle=False)"
   ]
  },
  {
   "cell_type": "markdown",
   "metadata": {},
   "source": [
    "An even better option for picking a validation set is using the exact same length of time period as the test set uses - this is implemented here:"
   ]
  },
  {
   "cell_type": "code",
   "execution_count": 25,
   "metadata": {},
   "outputs": [],
   "source": [
    "#TODO\n",
    "#val_idx = np.flatnonzero((df.index<=datetime.datetime(2014,9,17)) & (df.index>=datetime.datetime(2014,8,1)))"
   ]
  },
  {
   "cell_type": "code",
   "execution_count": 26,
   "metadata": {},
   "outputs": [
    {
     "name": "stdout",
     "output_type": "stream",
     "text": [
      "Train set size: 762906; Validation set size: 254303\n",
      "\n"
     ]
    },
    {
     "data": {
      "text/html": [
       "<div>\n",
       "<style scoped>\n",
       "    .dataframe tbody tr th:only-of-type {\n",
       "        vertical-align: middle;\n",
       "    }\n",
       "\n",
       "    .dataframe tbody tr th {\n",
       "        vertical-align: top;\n",
       "    }\n",
       "\n",
       "    .dataframe thead th {\n",
       "        text-align: right;\n",
       "    }\n",
       "</style>\n",
       "<table border=\"1\" class=\"dataframe\">\n",
       "  <thead>\n",
       "    <tr style=\"text-align: right;\">\n",
       "      <th></th>\n",
       "      <th>count</th>\n",
       "      <th>unique</th>\n",
       "      <th>top</th>\n",
       "      <th>freq</th>\n",
       "      <th>mean</th>\n",
       "      <th>std</th>\n",
       "      <th>min</th>\n",
       "      <th>25%</th>\n",
       "      <th>50%</th>\n",
       "      <th>75%</th>\n",
       "      <th>max</th>\n",
       "    </tr>\n",
       "  </thead>\n",
       "  <tbody>\n",
       "    <tr>\n",
       "      <th>Unnamed: 0</th>\n",
       "      <td>762906</td>\n",
       "      <td>NaN</td>\n",
       "      <td>NaN</td>\n",
       "      <td>NaN</td>\n",
       "      <td>508795</td>\n",
       "      <td>293649</td>\n",
       "      <td>231</td>\n",
       "      <td>254497</td>\n",
       "      <td>508700</td>\n",
       "      <td>763234</td>\n",
       "      <td>1.01721e+06</td>\n",
       "    </tr>\n",
       "    <tr>\n",
       "      <th>Store</th>\n",
       "      <td>762906</td>\n",
       "      <td>NaN</td>\n",
       "      <td>NaN</td>\n",
       "      <td>NaN</td>\n",
       "      <td>558.514</td>\n",
       "      <td>321.915</td>\n",
       "      <td>1</td>\n",
       "      <td>280</td>\n",
       "      <td>558</td>\n",
       "      <td>838</td>\n",
       "      <td>1115</td>\n",
       "    </tr>\n",
       "    <tr>\n",
       "      <th>DayOfWeek</th>\n",
       "      <td>762906</td>\n",
       "      <td>NaN</td>\n",
       "      <td>NaN</td>\n",
       "      <td>NaN</td>\n",
       "      <td>3.99734</td>\n",
       "      <td>1.99709</td>\n",
       "      <td>1</td>\n",
       "      <td>2</td>\n",
       "      <td>4</td>\n",
       "      <td>6</td>\n",
       "      <td>7</td>\n",
       "    </tr>\n",
       "    <tr>\n",
       "      <th>Customers</th>\n",
       "      <td>762906</td>\n",
       "      <td>NaN</td>\n",
       "      <td>NaN</td>\n",
       "      <td>NaN</td>\n",
       "      <td>634.863</td>\n",
       "      <td>464.663</td>\n",
       "      <td>0</td>\n",
       "      <td>405</td>\n",
       "      <td>610</td>\n",
       "      <td>839</td>\n",
       "      <td>7388</td>\n",
       "    </tr>\n",
       "    <tr>\n",
       "      <th>Open</th>\n",
       "      <td>762906</td>\n",
       "      <td>NaN</td>\n",
       "      <td>NaN</td>\n",
       "      <td>NaN</td>\n",
       "      <td>0.832358</td>\n",
       "      <td>0.373548</td>\n",
       "      <td>0</td>\n",
       "      <td>1</td>\n",
       "      <td>1</td>\n",
       "      <td>1</td>\n",
       "      <td>1</td>\n",
       "    </tr>\n",
       "    <tr>\n",
       "      <th>Promo</th>\n",
       "      <td>762906</td>\n",
       "      <td>NaN</td>\n",
       "      <td>NaN</td>\n",
       "      <td>NaN</td>\n",
       "      <td>0.37833</td>\n",
       "      <td>0.484971</td>\n",
       "      <td>0</td>\n",
       "      <td>0</td>\n",
       "      <td>0</td>\n",
       "      <td>1</td>\n",
       "      <td>1</td>\n",
       "    </tr>\n",
       "    <tr>\n",
       "      <th>StateHoliday</th>\n",
       "      <td>762906</td>\n",
       "      <td>NaN</td>\n",
       "      <td>NaN</td>\n",
       "      <td>NaN</td>\n",
       "      <td>1.03981</td>\n",
       "      <td>0.259721</td>\n",
       "      <td>1</td>\n",
       "      <td>1</td>\n",
       "      <td>1</td>\n",
       "      <td>1</td>\n",
       "      <td>4</td>\n",
       "    </tr>\n",
       "    <tr>\n",
       "      <th>SchoolHoliday</th>\n",
       "      <td>762906</td>\n",
       "      <td>NaN</td>\n",
       "      <td>NaN</td>\n",
       "      <td>NaN</td>\n",
       "      <td>0.181792</td>\n",
       "      <td>0.385673</td>\n",
       "      <td>0</td>\n",
       "      <td>0</td>\n",
       "      <td>0</td>\n",
       "      <td>0</td>\n",
       "      <td>1</td>\n",
       "    </tr>\n",
       "    <tr>\n",
       "      <th>StoreType</th>\n",
       "      <td>762906</td>\n",
       "      <td>NaN</td>\n",
       "      <td>NaN</td>\n",
       "      <td>NaN</td>\n",
       "      <td>2.2056</td>\n",
       "      <td>1.36467</td>\n",
       "      <td>1</td>\n",
       "      <td>1</td>\n",
       "      <td>1</td>\n",
       "      <td>4</td>\n",
       "      <td>4</td>\n",
       "    </tr>\n",
       "    <tr>\n",
       "      <th>Assortment</th>\n",
       "      <td>762906</td>\n",
       "      <td>NaN</td>\n",
       "      <td>NaN</td>\n",
       "      <td>NaN</td>\n",
       "      <td>1.93649</td>\n",
       "      <td>0.99388</td>\n",
       "      <td>1</td>\n",
       "      <td>1</td>\n",
       "      <td>1</td>\n",
       "      <td>3</td>\n",
       "      <td>3</td>\n",
       "    </tr>\n",
       "    <tr>\n",
       "      <th>CompetitionDistance</th>\n",
       "      <td>762906</td>\n",
       "      <td>NaN</td>\n",
       "      <td>NaN</td>\n",
       "      <td>NaN</td>\n",
       "      <td>5427.12</td>\n",
       "      <td>7718</td>\n",
       "      <td>20</td>\n",
       "      <td>710</td>\n",
       "      <td>2330</td>\n",
       "      <td>6880</td>\n",
       "      <td>75860</td>\n",
       "    </tr>\n",
       "    <tr>\n",
       "      <th>CompetitionOpenSinceMonth</th>\n",
       "      <td>762906</td>\n",
       "      <td>NaN</td>\n",
       "      <td>NaN</td>\n",
       "      <td>NaN</td>\n",
       "      <td>7.4696</td>\n",
       "      <td>2.67737</td>\n",
       "      <td>1</td>\n",
       "      <td>6</td>\n",
       "      <td>8</td>\n",
       "      <td>9</td>\n",
       "      <td>12</td>\n",
       "    </tr>\n",
       "    <tr>\n",
       "      <th>CompetitionOpenSinceYear</th>\n",
       "      <td>762906</td>\n",
       "      <td>NaN</td>\n",
       "      <td>NaN</td>\n",
       "      <td>NaN</td>\n",
       "      <td>2009.11</td>\n",
       "      <td>4.95363</td>\n",
       "      <td>1900</td>\n",
       "      <td>2008</td>\n",
       "      <td>2010</td>\n",
       "      <td>2011</td>\n",
       "      <td>2015</td>\n",
       "    </tr>\n",
       "    <tr>\n",
       "      <th>Promo2</th>\n",
       "      <td>762906</td>\n",
       "      <td>NaN</td>\n",
       "      <td>NaN</td>\n",
       "      <td>NaN</td>\n",
       "      <td>0.498329</td>\n",
       "      <td>0.499998</td>\n",
       "      <td>0</td>\n",
       "      <td>0</td>\n",
       "      <td>0</td>\n",
       "      <td>1</td>\n",
       "      <td>1</td>\n",
       "    </tr>\n",
       "    <tr>\n",
       "      <th>Promo2SinceWeek</th>\n",
       "      <td>762906</td>\n",
       "      <td>NaN</td>\n",
       "      <td>NaN</td>\n",
       "      <td>NaN</td>\n",
       "      <td>22.6</td>\n",
       "      <td>9.96346</td>\n",
       "      <td>1</td>\n",
       "      <td>22</td>\n",
       "      <td>22</td>\n",
       "      <td>22</td>\n",
       "      <td>50</td>\n",
       "    </tr>\n",
       "    <tr>\n",
       "      <th>Promo2SinceYear</th>\n",
       "      <td>762906</td>\n",
       "      <td>NaN</td>\n",
       "      <td>NaN</td>\n",
       "      <td>NaN</td>\n",
       "      <td>2011.88</td>\n",
       "      <td>1.17894</td>\n",
       "      <td>2009</td>\n",
       "      <td>2012</td>\n",
       "      <td>2012</td>\n",
       "      <td>2012</td>\n",
       "      <td>2015</td>\n",
       "    </tr>\n",
       "    <tr>\n",
       "      <th>PromoInterval</th>\n",
       "      <td>762906</td>\n",
       "      <td>NaN</td>\n",
       "      <td>NaN</td>\n",
       "      <td>NaN</td>\n",
       "      <td>0.976038</td>\n",
       "      <td>1.082</td>\n",
       "      <td>0</td>\n",
       "      <td>0</td>\n",
       "      <td>0</td>\n",
       "      <td>2</td>\n",
       "      <td>3</td>\n",
       "    </tr>\n",
       "    <tr>\n",
       "      <th>Year</th>\n",
       "      <td>762906</td>\n",
       "      <td>NaN</td>\n",
       "      <td>NaN</td>\n",
       "      <td>NaN</td>\n",
       "      <td>2013.47</td>\n",
       "      <td>0.49888</td>\n",
       "      <td>2013</td>\n",
       "      <td>2013</td>\n",
       "      <td>2013</td>\n",
       "      <td>2014</td>\n",
       "      <td>2014</td>\n",
       "    </tr>\n",
       "    <tr>\n",
       "      <th>Month</th>\n",
       "      <td>762906</td>\n",
       "      <td>NaN</td>\n",
       "      <td>NaN</td>\n",
       "      <td>NaN</td>\n",
       "      <td>6.26856</td>\n",
       "      <td>3.3768</td>\n",
       "      <td>1</td>\n",
       "      <td>3</td>\n",
       "      <td>6</td>\n",
       "      <td>9</td>\n",
       "      <td>12</td>\n",
       "    </tr>\n",
       "    <tr>\n",
       "      <th>Week</th>\n",
       "      <td>762906</td>\n",
       "      <td>NaN</td>\n",
       "      <td>NaN</td>\n",
       "      <td>NaN</td>\n",
       "      <td>25.4878</td>\n",
       "      <td>14.6908</td>\n",
       "      <td>1</td>\n",
       "      <td>13</td>\n",
       "      <td>25</td>\n",
       "      <td>38</td>\n",
       "      <td>52</td>\n",
       "    </tr>\n",
       "    <tr>\n",
       "      <th>Day</th>\n",
       "      <td>762906</td>\n",
       "      <td>NaN</td>\n",
       "      <td>NaN</td>\n",
       "      <td>NaN</td>\n",
       "      <td>15.5701</td>\n",
       "      <td>8.80365</td>\n",
       "      <td>1</td>\n",
       "      <td>8</td>\n",
       "      <td>15</td>\n",
       "      <td>23</td>\n",
       "      <td>31</td>\n",
       "    </tr>\n",
       "    <tr>\n",
       "      <th>Dayofweek</th>\n",
       "      <td>762906</td>\n",
       "      <td>NaN</td>\n",
       "      <td>NaN</td>\n",
       "      <td>NaN</td>\n",
       "      <td>2.99734</td>\n",
       "      <td>1.99709</td>\n",
       "      <td>0</td>\n",
       "      <td>1</td>\n",
       "      <td>3</td>\n",
       "      <td>5</td>\n",
       "      <td>6</td>\n",
       "    </tr>\n",
       "    <tr>\n",
       "      <th>Dayofyear</th>\n",
       "      <td>762906</td>\n",
       "      <td>NaN</td>\n",
       "      <td>NaN</td>\n",
       "      <td>NaN</td>\n",
       "      <td>175.009</td>\n",
       "      <td>102.955</td>\n",
       "      <td>1</td>\n",
       "      <td>86</td>\n",
       "      <td>172</td>\n",
       "      <td>264</td>\n",
       "      <td>365</td>\n",
       "    </tr>\n",
       "    <tr>\n",
       "      <th>Is_month_end</th>\n",
       "      <td>762906</td>\n",
       "      <td>2</td>\n",
       "      <td>False</td>\n",
       "      <td>738161</td>\n",
       "      <td>NaN</td>\n",
       "      <td>NaN</td>\n",
       "      <td>NaN</td>\n",
       "      <td>NaN</td>\n",
       "      <td>NaN</td>\n",
       "      <td>NaN</td>\n",
       "      <td>NaN</td>\n",
       "    </tr>\n",
       "    <tr>\n",
       "      <th>Is_month_start</th>\n",
       "      <td>762906</td>\n",
       "      <td>2</td>\n",
       "      <td>False</td>\n",
       "      <td>737227</td>\n",
       "      <td>NaN</td>\n",
       "      <td>NaN</td>\n",
       "      <td>NaN</td>\n",
       "      <td>NaN</td>\n",
       "      <td>NaN</td>\n",
       "      <td>NaN</td>\n",
       "      <td>NaN</td>\n",
       "    </tr>\n",
       "    <tr>\n",
       "      <th>Is_quarter_end</th>\n",
       "      <td>762906</td>\n",
       "      <td>2</td>\n",
       "      <td>False</td>\n",
       "      <td>755281</td>\n",
       "      <td>NaN</td>\n",
       "      <td>NaN</td>\n",
       "      <td>NaN</td>\n",
       "      <td>NaN</td>\n",
       "      <td>NaN</td>\n",
       "      <td>NaN</td>\n",
       "      <td>NaN</td>\n",
       "    </tr>\n",
       "    <tr>\n",
       "      <th>Is_quarter_start</th>\n",
       "      <td>762906</td>\n",
       "      <td>2</td>\n",
       "      <td>False</td>\n",
       "      <td>754347</td>\n",
       "      <td>NaN</td>\n",
       "      <td>NaN</td>\n",
       "      <td>NaN</td>\n",
       "      <td>NaN</td>\n",
       "      <td>NaN</td>\n",
       "      <td>NaN</td>\n",
       "      <td>NaN</td>\n",
       "    </tr>\n",
       "    <tr>\n",
       "      <th>Is_year_end</th>\n",
       "      <td>762906</td>\n",
       "      <td>2</td>\n",
       "      <td>False</td>\n",
       "      <td>761791</td>\n",
       "      <td>NaN</td>\n",
       "      <td>NaN</td>\n",
       "      <td>NaN</td>\n",
       "      <td>NaN</td>\n",
       "      <td>NaN</td>\n",
       "      <td>NaN</td>\n",
       "      <td>NaN</td>\n",
       "    </tr>\n",
       "    <tr>\n",
       "      <th>Is_year_start</th>\n",
       "      <td>762906</td>\n",
       "      <td>2</td>\n",
       "      <td>False</td>\n",
       "      <td>760677</td>\n",
       "      <td>NaN</td>\n",
       "      <td>NaN</td>\n",
       "      <td>NaN</td>\n",
       "      <td>NaN</td>\n",
       "      <td>NaN</td>\n",
       "      <td>NaN</td>\n",
       "      <td>NaN</td>\n",
       "    </tr>\n",
       "    <tr>\n",
       "      <th>Elapsed</th>\n",
       "      <td>762906</td>\n",
       "      <td>NaN</td>\n",
       "      <td>NaN</td>\n",
       "      <td>NaN</td>\n",
       "      <td>1.38675e+09</td>\n",
       "      <td>1.74188e+07</td>\n",
       "      <td>1.357e+09</td>\n",
       "      <td>1.37177e+09</td>\n",
       "      <td>1.38655e+09</td>\n",
       "      <td>1.40132e+09</td>\n",
       "      <td>1.41834e+09</td>\n",
       "    </tr>\n",
       "    <tr>\n",
       "      <th>CompetitionDistance_na</th>\n",
       "      <td>762906</td>\n",
       "      <td>2</td>\n",
       "      <td>False</td>\n",
       "      <td>760938</td>\n",
       "      <td>NaN</td>\n",
       "      <td>NaN</td>\n",
       "      <td>NaN</td>\n",
       "      <td>NaN</td>\n",
       "      <td>NaN</td>\n",
       "      <td>NaN</td>\n",
       "      <td>NaN</td>\n",
       "    </tr>\n",
       "    <tr>\n",
       "      <th>CompetitionOpenSinceMonth_na</th>\n",
       "      <td>762906</td>\n",
       "      <td>2</td>\n",
       "      <td>False</td>\n",
       "      <td>520337</td>\n",
       "      <td>NaN</td>\n",
       "      <td>NaN</td>\n",
       "      <td>NaN</td>\n",
       "      <td>NaN</td>\n",
       "      <td>NaN</td>\n",
       "      <td>NaN</td>\n",
       "      <td>NaN</td>\n",
       "    </tr>\n",
       "    <tr>\n",
       "      <th>CompetitionOpenSinceYear_na</th>\n",
       "      <td>762906</td>\n",
       "      <td>2</td>\n",
       "      <td>False</td>\n",
       "      <td>520337</td>\n",
       "      <td>NaN</td>\n",
       "      <td>NaN</td>\n",
       "      <td>NaN</td>\n",
       "      <td>NaN</td>\n",
       "      <td>NaN</td>\n",
       "      <td>NaN</td>\n",
       "      <td>NaN</td>\n",
       "    </tr>\n",
       "    <tr>\n",
       "      <th>Promo2SinceWeek_na</th>\n",
       "      <td>762906</td>\n",
       "      <td>2</td>\n",
       "      <td>True</td>\n",
       "      <td>382728</td>\n",
       "      <td>NaN</td>\n",
       "      <td>NaN</td>\n",
       "      <td>NaN</td>\n",
       "      <td>NaN</td>\n",
       "      <td>NaN</td>\n",
       "      <td>NaN</td>\n",
       "      <td>NaN</td>\n",
       "    </tr>\n",
       "    <tr>\n",
       "      <th>Promo2SinceYear_na</th>\n",
       "      <td>762906</td>\n",
       "      <td>2</td>\n",
       "      <td>True</td>\n",
       "      <td>382728</td>\n",
       "      <td>NaN</td>\n",
       "      <td>NaN</td>\n",
       "      <td>NaN</td>\n",
       "      <td>NaN</td>\n",
       "      <td>NaN</td>\n",
       "      <td>NaN</td>\n",
       "      <td>NaN</td>\n",
       "    </tr>\n",
       "    <tr>\n",
       "      <th>Sales</th>\n",
       "      <td>762906</td>\n",
       "      <td>NaN</td>\n",
       "      <td>NaN</td>\n",
       "      <td>NaN</td>\n",
       "      <td>5720.59</td>\n",
       "      <td>3806.1</td>\n",
       "      <td>0</td>\n",
       "      <td>3700</td>\n",
       "      <td>5680</td>\n",
       "      <td>7769</td>\n",
       "      <td>38037</td>\n",
       "    </tr>\n",
       "  </tbody>\n",
       "</table>\n",
       "</div>"
      ],
      "text/plain": [
       "                               count unique    top    freq         mean  \\\n",
       "Unnamed: 0                    762906    NaN    NaN     NaN       508795   \n",
       "Store                         762906    NaN    NaN     NaN      558.514   \n",
       "DayOfWeek                     762906    NaN    NaN     NaN      3.99734   \n",
       "Customers                     762906    NaN    NaN     NaN      634.863   \n",
       "Open                          762906    NaN    NaN     NaN     0.832358   \n",
       "Promo                         762906    NaN    NaN     NaN      0.37833   \n",
       "StateHoliday                  762906    NaN    NaN     NaN      1.03981   \n",
       "SchoolHoliday                 762906    NaN    NaN     NaN     0.181792   \n",
       "StoreType                     762906    NaN    NaN     NaN       2.2056   \n",
       "Assortment                    762906    NaN    NaN     NaN      1.93649   \n",
       "CompetitionDistance           762906    NaN    NaN     NaN      5427.12   \n",
       "CompetitionOpenSinceMonth     762906    NaN    NaN     NaN       7.4696   \n",
       "CompetitionOpenSinceYear      762906    NaN    NaN     NaN      2009.11   \n",
       "Promo2                        762906    NaN    NaN     NaN     0.498329   \n",
       "Promo2SinceWeek               762906    NaN    NaN     NaN         22.6   \n",
       "Promo2SinceYear               762906    NaN    NaN     NaN      2011.88   \n",
       "PromoInterval                 762906    NaN    NaN     NaN     0.976038   \n",
       "Year                          762906    NaN    NaN     NaN      2013.47   \n",
       "Month                         762906    NaN    NaN     NaN      6.26856   \n",
       "Week                          762906    NaN    NaN     NaN      25.4878   \n",
       "Day                           762906    NaN    NaN     NaN      15.5701   \n",
       "Dayofweek                     762906    NaN    NaN     NaN      2.99734   \n",
       "Dayofyear                     762906    NaN    NaN     NaN      175.009   \n",
       "Is_month_end                  762906      2  False  738161          NaN   \n",
       "Is_month_start                762906      2  False  737227          NaN   \n",
       "Is_quarter_end                762906      2  False  755281          NaN   \n",
       "Is_quarter_start              762906      2  False  754347          NaN   \n",
       "Is_year_end                   762906      2  False  761791          NaN   \n",
       "Is_year_start                 762906      2  False  760677          NaN   \n",
       "Elapsed                       762906    NaN    NaN     NaN  1.38675e+09   \n",
       "CompetitionDistance_na        762906      2  False  760938          NaN   \n",
       "CompetitionOpenSinceMonth_na  762906      2  False  520337          NaN   \n",
       "CompetitionOpenSinceYear_na   762906      2  False  520337          NaN   \n",
       "Promo2SinceWeek_na            762906      2   True  382728          NaN   \n",
       "Promo2SinceYear_na            762906      2   True  382728          NaN   \n",
       "Sales                         762906    NaN    NaN     NaN      5720.59   \n",
       "\n",
       "                                      std        min          25%  \\\n",
       "Unnamed: 0                         293649        231       254497   \n",
       "Store                             321.915          1          280   \n",
       "DayOfWeek                         1.99709          1            2   \n",
       "Customers                         464.663          0          405   \n",
       "Open                             0.373548          0            1   \n",
       "Promo                            0.484971          0            0   \n",
       "StateHoliday                     0.259721          1            1   \n",
       "SchoolHoliday                    0.385673          0            0   \n",
       "StoreType                         1.36467          1            1   \n",
       "Assortment                        0.99388          1            1   \n",
       "CompetitionDistance                  7718         20          710   \n",
       "CompetitionOpenSinceMonth         2.67737          1            6   \n",
       "CompetitionOpenSinceYear          4.95363       1900         2008   \n",
       "Promo2                           0.499998          0            0   \n",
       "Promo2SinceWeek                   9.96346          1           22   \n",
       "Promo2SinceYear                   1.17894       2009         2012   \n",
       "PromoInterval                       1.082          0            0   \n",
       "Year                              0.49888       2013         2013   \n",
       "Month                              3.3768          1            3   \n",
       "Week                              14.6908          1           13   \n",
       "Day                               8.80365          1            8   \n",
       "Dayofweek                         1.99709          0            1   \n",
       "Dayofyear                         102.955          1           86   \n",
       "Is_month_end                          NaN        NaN          NaN   \n",
       "Is_month_start                        NaN        NaN          NaN   \n",
       "Is_quarter_end                        NaN        NaN          NaN   \n",
       "Is_quarter_start                      NaN        NaN          NaN   \n",
       "Is_year_end                           NaN        NaN          NaN   \n",
       "Is_year_start                         NaN        NaN          NaN   \n",
       "Elapsed                       1.74188e+07  1.357e+09  1.37177e+09   \n",
       "CompetitionDistance_na                NaN        NaN          NaN   \n",
       "CompetitionOpenSinceMonth_na          NaN        NaN          NaN   \n",
       "CompetitionOpenSinceYear_na           NaN        NaN          NaN   \n",
       "Promo2SinceWeek_na                    NaN        NaN          NaN   \n",
       "Promo2SinceYear_na                    NaN        NaN          NaN   \n",
       "Sales                              3806.1          0         3700   \n",
       "\n",
       "                                      50%          75%          max  \n",
       "Unnamed: 0                         508700       763234  1.01721e+06  \n",
       "Store                                 558          838         1115  \n",
       "DayOfWeek                               4            6            7  \n",
       "Customers                             610          839         7388  \n",
       "Open                                    1            1            1  \n",
       "Promo                                   0            1            1  \n",
       "StateHoliday                            1            1            4  \n",
       "SchoolHoliday                           0            0            1  \n",
       "StoreType                               1            4            4  \n",
       "Assortment                              1            3            3  \n",
       "CompetitionDistance                  2330         6880        75860  \n",
       "CompetitionOpenSinceMonth               8            9           12  \n",
       "CompetitionOpenSinceYear             2010         2011         2015  \n",
       "Promo2                                  0            1            1  \n",
       "Promo2SinceWeek                        22           22           50  \n",
       "Promo2SinceYear                      2012         2012         2015  \n",
       "PromoInterval                           0            2            3  \n",
       "Year                                 2013         2014         2014  \n",
       "Month                                   6            9           12  \n",
       "Week                                   25           38           52  \n",
       "Day                                    15           23           31  \n",
       "Dayofweek                               3            5            6  \n",
       "Dayofyear                             172          264          365  \n",
       "Is_month_end                          NaN          NaN          NaN  \n",
       "Is_month_start                        NaN          NaN          NaN  \n",
       "Is_quarter_end                        NaN          NaN          NaN  \n",
       "Is_quarter_start                      NaN          NaN          NaN  \n",
       "Is_year_end                           NaN          NaN          NaN  \n",
       "Is_year_start                         NaN          NaN          NaN  \n",
       "Elapsed                       1.38655e+09  1.40132e+09  1.41834e+09  \n",
       "CompetitionDistance_na                NaN          NaN          NaN  \n",
       "CompetitionOpenSinceMonth_na          NaN          NaN          NaN  \n",
       "CompetitionOpenSinceYear_na           NaN          NaN          NaN  \n",
       "Promo2SinceWeek_na                    NaN          NaN          NaN  \n",
       "Promo2SinceYear_na                    NaN          NaN          NaN  \n",
       "Sales                                5680         7769        38037  "
      ]
     },
     "execution_count": 26,
     "metadata": {},
     "output_type": "execute_result"
    }
   ],
   "source": [
    "print('Train set size: {}; Validation set size: {}\\n'.format(df_train.shape[0], df_valid.shape[0]))\n",
    "df_train.describe(include='all').T"
   ]
  },
  {
   "cell_type": "code",
   "execution_count": 27,
   "metadata": {},
   "outputs": [
    {
     "data": {
      "text/plain": [
       "((762906, 35), (762906,), (254303, 35), (254303,))"
      ]
     },
     "execution_count": 27,
     "metadata": {},
     "output_type": "execute_result"
    }
   ],
   "source": [
    "X_train = df_train.loc[:, df_train.columns != 'Sales']\n",
    "y_train = df_train['Sales']\n",
    "\n",
    "X_valid = df_valid.loc[:, df_valid.columns != 'Sales']\n",
    "y_valid = df_valid['Sales']\n",
    "\n",
    "X_train.shape, y_train.shape, X_valid.shape, y_valid.shape"
   ]
  },
  {
   "cell_type": "markdown",
   "metadata": {},
   "source": [
    "### Setup hyper parameters"
   ]
  },
  {
   "cell_type": "code",
   "execution_count": 28,
   "metadata": {
    "colab": {
     "base_uri": "https://localhost:8080/",
     "height": 34
    },
    "colab_type": "code",
    "id": "kXBct3Sm8qf3",
    "outputId": "b01f4997-5a4c-4cc6-ad39-a731f9dbb83d"
   },
   "outputs": [],
   "source": [
    "# TODO ..."
   ]
  },
  {
   "cell_type": "markdown",
   "metadata": {},
   "source": [
    "### Train model"
   ]
  },
  {
   "cell_type": "code",
   "execution_count": 29,
   "metadata": {
    "colab": {
     "base_uri": "https://localhost:8080/",
     "height": 153
    },
    "colab_type": "code",
    "id": "A8hXOBPvAAKF",
    "outputId": "3d93b1b6-8f6c-4d26-b5e8-f885a100a5b5"
   },
   "outputs": [
    {
     "name": "stderr",
     "output_type": "stream",
     "text": [
      "/opt/conda/envs/custom/lib/python3.7/site-packages/sklearn/ensemble/forest.py:248: FutureWarning: The default value of n_estimators will change from 10 in version 0.20 to 100 in 0.22.\n",
      "  \"10 in version 0.20 to 100 in 0.22.\", FutureWarning)\n"
     ]
    },
    {
     "name": "stdout",
     "output_type": "stream",
     "text": [
      "CPU times: user 2min 46s, sys: 1.45 s, total: 2min 47s\n",
      "Wall time: 53.5 s\n"
     ]
    },
    {
     "data": {
      "text/plain": [
       "RandomForestRegressor(bootstrap=True, criterion='mse', max_depth=None,\n",
       "           max_features='auto', max_leaf_nodes=None,\n",
       "           min_impurity_decrease=0.0, min_impurity_split=None,\n",
       "           min_samples_leaf=1, min_samples_split=2,\n",
       "           min_weight_fraction_leaf=0.0, n_estimators=10, n_jobs=-1,\n",
       "           oob_score=False, random_state=None, verbose=0, warm_start=False)"
      ]
     },
     "execution_count": 29,
     "metadata": {},
     "output_type": "execute_result"
    }
   ],
   "source": [
    "rfm = RandomForestRegressor(n_jobs=-1)\n",
    "%time rfm.fit(X_train, y_train)"
   ]
  },
  {
   "cell_type": "markdown",
   "metadata": {
    "colab_type": "text",
    "id": "7wvTge5yI0i8"
   },
   "source": [
    "### Evaluate model"
   ]
  },
  {
   "cell_type": "code",
   "execution_count": 30,
   "metadata": {
    "colab": {},
    "colab_type": "code",
    "id": "Z75aMR3E-3IB"
   },
   "outputs": [],
   "source": [
    "def print_score(m, lossfunct=rmse):\n",
    "    lf_train = lossfunct(m.predict(X_train), y_train)\n",
    "    lf_valid = lossfunct(m.predict(X_valid), y_valid)\n",
    "    r2_train = m.score(X_train, y_train)\n",
    "    r2_valid = m.score(X_valid, y_valid)\n",
    "    res = [lf_train, lf_valid,  \n",
    "           r2_train, r2_valid]\n",
    "    if hasattr(m, 'oob_score_'): res.append(m.oob_score_)\n",
    "    print(res)"
   ]
  },
  {
   "cell_type": "code",
   "execution_count": 31,
   "metadata": {
    "colab": {
     "base_uri": "https://localhost:8080/",
     "height": 34
    },
    "colab_type": "code",
    "id": "q13gzBUwAC9m",
    "outputId": "b4c6349a-9a65-46aa-fea2-b36adccdf1a8"
   },
   "outputs": [
    {
     "name": "stdout",
     "output_type": "stream",
     "text": [
      "[0.02639480588395337, 0.06847645742979377, 0.9974198433116129, 0.9797561541455969]\n"
     ]
    }
   ],
   "source": [
    "print_score(rfm, lossfunct=rmspe)"
   ]
  },
  {
   "cell_type": "markdown",
   "metadata": {},
   "source": [
    "### Save model"
   ]
  },
  {
   "cell_type": "code",
   "execution_count": 32,
   "metadata": {},
   "outputs": [],
   "source": [
    "pickle.dump(rfm, open(MODEL_PKL, 'wb'))"
   ]
  },
  {
   "cell_type": "code",
   "execution_count": 24,
   "metadata": {},
   "outputs": [],
   "source": [
    "# FINE"
   ]
  }
 ],
 "metadata": {
  "colab": {
   "collapsed_sections": [
    "dT_z70hW46lq"
   ],
   "name": "Rossmann-RandomForests.ipynb",
   "provenance": [],
   "version": "0.3.2"
  },
  "kernelspec": {
   "display_name": "Python 3",
   "language": "python",
   "name": "python3"
  },
  "language_info": {
   "codemirror_mode": {
    "name": "ipython",
    "version": 3
   },
   "file_extension": ".py",
   "mimetype": "text/x-python",
   "name": "python",
   "nbconvert_exporter": "python",
   "pygments_lexer": "ipython3",
   "version": "3.7.4"
  }
 },
 "nbformat": 4,
 "nbformat_minor": 2
}
