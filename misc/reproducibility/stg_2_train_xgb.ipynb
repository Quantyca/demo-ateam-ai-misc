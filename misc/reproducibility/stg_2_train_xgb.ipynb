{
 "cells": [
  {
   "cell_type": "markdown",
   "metadata": {},
   "source": [
    "# Rossmann: XGBoost (Stage2 - Train)"
   ]
  },
  {
   "cell_type": "markdown",
   "metadata": {},
   "source": [
    "## Intro"
   ]
  },
  {
   "cell_type": "markdown",
   "metadata": {},
   "source": [
    "Keggle Kernel: https://www.kaggle.com/paso84/xgboost-in-python-with-rmspe"
   ]
  },
  {
   "cell_type": "markdown",
   "metadata": {},
   "source": [
    "## Usage"
   ]
  },
  {
   "cell_type": "markdown",
   "metadata": {},
   "source": [
    "**Input parameters**\n",
    "1. PROCESSED_TRAIN_CSV:The name of the file used to store the processed train data\n",
    "1. MODEL_PKL: The output file used to store the generated model\n",
    "\n",
    "**Output**\n",
    "1. A file that store the generated model serialized with pickle\n"
   ]
  },
  {
   "cell_type": "markdown",
   "metadata": {},
   "source": [
    "## Setup env"
   ]
  },
  {
   "cell_type": "markdown",
   "metadata": {},
   "source": [
    "### Set global variables"
   ]
  },
  {
   "cell_type": "code",
   "execution_count": 1,
   "metadata": {},
   "outputs": [
    {
     "name": "stdout",
     "output_type": "stream",
     "text": [
      "/opt/shared/notebooks\r\n"
     ]
    }
   ],
   "source": [
    "!pwd"
   ]
  },
  {
   "cell_type": "code",
   "execution_count": 2,
   "metadata": {},
   "outputs": [],
   "source": [
    "DATASETS_DIR = '../data'\n",
    "MODELS_DIR = '../models'"
   ]
  },
  {
   "cell_type": "code",
   "execution_count": 3,
   "metadata": {
    "tags": [
     "parameters"
    ]
   },
   "outputs": [],
   "source": [
    "# this cell is tagged `parameters`\n",
    "PROCESSED_TRAIN_CSV = DATASETS_DIR + '/processed/tst-train.csv'\n",
    "MODEL_PKL = MODELS_DIR + '/tst-model.pkl'"
   ]
  },
  {
   "cell_type": "code",
   "execution_count": 5,
   "metadata": {},
   "outputs": [
    {
     "name": "stdout",
     "output_type": "stream",
     "text": [
      "  1017210 174831981 ../data/processed/tst-train.csv\r\n"
     ]
    }
   ],
   "source": [
    "!wc -lc {PROCESSED_TRAIN_CSV} # show lines & bytes count"
   ]
  },
  {
   "cell_type": "markdown",
   "metadata": {},
   "source": [
    "### Install required packages"
   ]
  },
  {
   "cell_type": "markdown",
   "metadata": {},
   "source": [
    "Se il notebook è eseguito su una macchina pulita installare i pacchetti necessari con i seguenti comandi ..."
   ]
  },
  {
   "cell_type": "code",
   "execution_count": 6,
   "metadata": {},
   "outputs": [],
   "source": [
    "#!curl https://raw.githubusercontent.com/andrea-gioia/boostrap.ai/master/???\t | bash"
   ]
  },
  {
   "cell_type": "code",
   "execution_count": 7,
   "metadata": {},
   "outputs": [],
   "source": [
    "#!pip list"
   ]
  },
  {
   "cell_type": "markdown",
   "metadata": {},
   "source": [
    "Se il notebook è eseguito all'interno di un ambiente virtuale conda con tutti i pacchetti specificati nel file di requirements già installati fare solo un check eseguendo i seguenti comandi ..."
   ]
  },
  {
   "cell_type": "code",
   "execution_count": 8,
   "metadata": {},
   "outputs": [
    {
     "name": "stdout",
     "output_type": "stream",
     "text": [
      "# conda environments:\r\n",
      "#\r\n",
      "base                     /opt/conda\r\n",
      "custom                *  /opt/conda/envs/custom\r\n",
      "\r\n"
     ]
    }
   ],
   "source": [
    "!conda env list"
   ]
  },
  {
   "cell_type": "code",
   "execution_count": 9,
   "metadata": {},
   "outputs": [
    {
     "name": "stdout",
     "output_type": "stream",
     "text": [
      "Python 3.7.3\r\n"
     ]
    }
   ],
   "source": [
    "!python -V"
   ]
  },
  {
   "cell_type": "code",
   "execution_count": 10,
   "metadata": {},
   "outputs": [],
   "source": [
    "#!conda list"
   ]
  },
  {
   "cell_type": "markdown",
   "metadata": {},
   "source": [
    "###  Dump environment"
   ]
  },
  {
   "cell_type": "code",
   "execution_count": 29,
   "metadata": {},
   "outputs": [
    {
     "name": "stdout",
     "output_type": "stream",
     "text": [
      "Python 3.7.3\r\n"
     ]
    }
   ],
   "source": [
    "!python -V"
   ]
  },
  {
   "cell_type": "code",
   "execution_count": 30,
   "metadata": {},
   "outputs": [
    {
     "name": "stdout",
     "output_type": "stream",
     "text": [
      "# conda environments:\r\n",
      "#\r\n",
      "base                     /opt/conda\r\n",
      "custom                *  /opt/conda/envs/custom\r\n",
      "\r\n"
     ]
    }
   ],
   "source": [
    "!conda env list"
   ]
  },
  {
   "cell_type": "code",
   "execution_count": 31,
   "metadata": {},
   "outputs": [
    {
     "name": "stdout",
     "output_type": "stream",
     "text": [
      "name: custom\n",
      "channels:\n",
      "  - pytorch\n",
      "  - fastai\n",
      "  - conda-forge\n",
      "  - defaults\n",
      "dependencies:\n",
      "  - _py-xgboost-mutex=2.0=cpu_0\n",
      "  - asn1crypto=0.24.0=py37_0\n",
      "  - attrs=19.1.0=py37_1\n",
      "  - backcall=0.1.0=py37_0\n",
      "  - beautifulsoup4=4.7.1=py37_1\n",
      "  - blas=1.0=mkl\n",
      "  - bleach=3.1.0=py37_0\n",
      "  - bottleneck=1.2.1=py37h035aef0_1\n",
      "  - ca-certificates=2019.5.15=0\n",
      "  - certifi=2019.3.9=py37_0\n",
      "  - cffi=1.12.3=py37h2e261b9_0\n",
      "  - chardet=3.0.4=py37_1\n",
      "  - cryptography=2.6.1=py37h1ba5d50_0\n",
      "  - cudatoolkit=10.0.130=0\n",
      "  - cycler=0.10.0=py37_0\n",
      "  - cymem=2.0.2=py37hfd86e86_0\n",
      "  - cytoolz=0.9.0.1=py37h14c3975_1\n",
      "  - dataclasses=0.6=py_0\n",
      "  - dbus=1.13.6=h746ee38_0\n",
      "  - decorator=4.4.0=py37_1\n",
      "  - defusedxml=0.6.0=py_0\n",
      "  - dill=0.2.9=py37_0\n",
      "  - entrypoints=0.3=py37_0\n",
      "  - expat=2.2.6=he6710b0_0\n",
      "  - fastai=1.0.53.post2=1\n",
      "  - fastprogress=0.1.21=py_0\n",
      "  - fontconfig=2.13.0=h9420a91_0\n",
      "  - freetype=2.9.1=h8a8886c_1\n",
      "  - glib=2.56.2=hd408876_0\n",
      "  - gmp=6.1.2=h6c8ec71_1\n",
      "  - gst-plugins-base=1.14.0=hbbd80ab_1\n",
      "  - gstreamer=1.14.0=hb453b48_1\n",
      "  - icu=58.2=h9c2bf20_1\n",
      "  - idna=2.8=py37_0\n",
      "  - intel-openmp=2019.4=243\n",
      "  - ipykernel=5.1.1=py37h39e3cac_0\n",
      "  - ipython=7.5.0=py37h39e3cac_0\n",
      "  - ipython_genutils=0.2.0=py37_0\n",
      "  - ipywidgets=7.4.2=py37_0\n",
      "  - jedi=0.13.3=py37_0\n",
      "  - jinja2=2.10.1=py37_0\n",
      "  - jpeg=9b=h024ee3a_2\n",
      "  - jsonschema=3.0.1=py37_0\n",
      "  - jupyter=1.0.0=py37_7\n",
      "  - jupyter_client=5.2.4=py37_0\n",
      "  - jupyter_console=6.0.0=py37_0\n",
      "  - jupyter_core=4.4.0=py37_0\n",
      "  - kiwisolver=1.1.0=py37he6710b0_0\n",
      "  - libedit=3.1.20181209=hc058e9b_0\n",
      "  - libffi=3.2.1=hd88cf55_4\n",
      "  - libgcc-ng=9.1.0=hdf63c60_0\n",
      "  - libgfortran-ng=7.3.0=hdf63c60_0\n",
      "  - libpng=1.6.37=hbc83047_0\n",
      "  - libsodium=1.0.16=h1bed415_0\n",
      "  - libstdcxx-ng=9.1.0=hdf63c60_0\n",
      "  - libtiff=4.0.10=h2733197_2\n",
      "  - libuuid=1.0.3=h1bed415_2\n",
      "  - libxcb=1.13=h1bed415_1\n",
      "  - libxgboost=0.80=hf484d3e_1001\n",
      "  - libxml2=2.9.9=he19cac6_0\n",
      "  - markupsafe=1.1.1=py37h7b6447c_0\n",
      "  - matplotlib=2.2.3=py37hb69df0a_0\n",
      "  - mistune=0.8.4=py37h7b6447c_0\n",
      "  - mkl=2018.0.3=1\n",
      "  - mkl_fft=1.0.6=py37h7dd41cf_0\n",
      "  - mkl_random=1.0.1=py37h4414c95_1\n",
      "  - msgpack-numpy=0.4.3.2=py37_0\n",
      "  - msgpack-python=0.6.1=py37hfd86e86_1\n",
      "  - murmurhash=1.0.2=py37he6710b0_0\n",
      "  - nbconvert=5.5.0=py_0\n",
      "  - nbformat=4.4.0=py37_0\n",
      "  - ncurses=6.1=he6710b0_1\n",
      "  - ninja=1.9.0=py37hfd86e86_0\n",
      "  - notebook=5.7.8=py37_0\n",
      "  - numexpr=2.6.8=py37hd89afb7_0\n",
      "  - numpy=1.15.2=py37h1d66e8a_1\n",
      "  - numpy-base=1.15.2=py37h81de0dd_1\n",
      "  - nvidia-ml-py3=7.352.0=py_0\n",
      "  - olefile=0.46=py37_0\n",
      "  - openssl=1.1.1c=h7b6447c_1\n",
      "  - packaging=19.0=py37_0\n",
      "  - pandas=0.23.4=py37h04863e7_0\n",
      "  - pandoc=2.2.3.2=0\n",
      "  - pandocfilters=1.4.2=py37_1\n",
      "  - parso=0.4.0=py_0\n",
      "  - patsy=0.5.1=py37_0\n",
      "  - pcre=8.43=he6710b0_0\n",
      "  - pexpect=4.7.0=py37_0\n",
      "  - pickleshare=0.7.5=py37_0\n",
      "  - pillow=6.0.0=py37h34e0f95_0\n",
      "  - pip=19.1.1=py37_0\n",
      "  - plac=0.9.6=py37_0\n",
      "  - preshed=2.0.1=py37he6710b0_0\n",
      "  - prometheus_client=0.6.0=py37_0\n",
      "  - prompt_toolkit=2.0.9=py37_0\n",
      "  - ptyprocess=0.6.0=py37_0\n",
      "  - py-xgboost=0.80=py37hf484d3e_1001\n",
      "  - pycparser=2.19=py37_0\n",
      "  - pygments=2.4.2=py_0\n",
      "  - pyopenssl=19.0.0=py37_0\n",
      "  - pyparsing=2.4.0=py_0\n",
      "  - pyqt=5.9.2=py37h05f1152_2\n",
      "  - pyrsistent=0.14.11=py37h7b6447c_0\n",
      "  - pysocks=1.7.0=py37_0\n",
      "  - python=3.7.3=h0371630_0\n",
      "  - python-dateutil=2.8.0=py37_0\n",
      "  - pytorch=1.1.0=py3.7_cuda10.0.130_cudnn7.5.1_0\n",
      "  - pytz=2019.1=py_0\n",
      "  - pyyaml=5.1=py37h7b6447c_0\n",
      "  - pyzmq=18.0.0=py37he6710b0_0\n",
      "  - qt=5.9.7=h5867ecd_1\n",
      "  - qtconsole=4.5.1=py_0\n",
      "  - readline=7.0=h7b6447c_5\n",
      "  - regex=2018.01.10=py37h14c3975_1000\n",
      "  - requests=2.22.0=py37_0\n",
      "  - scikit-learn=0.20.0=py37h4989274_1\n",
      "  - scipy=1.1.0=py37hfa4b5c9_1\n",
      "  - seaborn=0.9.0=py37_0\n",
      "  - send2trash=1.5.0=py37_0\n",
      "  - setuptools=41.0.1=py37_0\n",
      "  - sip=4.19.8=py37hf484d3e_0\n",
      "  - six=1.12.0=py37_0\n",
      "  - soupsieve=1.8=py37_0\n",
      "  - spacy=2.0.18=py37hfc679d8_0\n",
      "  - sqlite=3.28.0=h7b6447c_0\n",
      "  - statsmodels=0.9.0=py37h035aef0_0\n",
      "  - terminado=0.8.2=py37_0\n",
      "  - testpath=0.4.2=py37_0\n",
      "  - thinc=6.12.1=py37h637b7d7_1000\n",
      "  - tk=8.6.8=hbc83047_0\n",
      "  - toolz=0.9.0=py37_0\n",
      "  - torchvision=0.3.0=py37_cu10.0.130_1\n",
      "  - tornado=6.0.2=py37h7b6447c_0\n",
      "  - tqdm=4.32.1=py_0\n",
      "  - traitlets=4.3.2=py37_0\n",
      "  - typing=3.6.4=py37_0\n",
      "  - ujson=1.35=py37h14c3975_0\n",
      "  - unzip=6.0=h611a1e1_0\n",
      "  - urllib3=1.24.2=py37_0\n",
      "  - wcwidth=0.1.7=py37_0\n",
      "  - webencodings=0.5.1=py37_1\n",
      "  - wheel=0.33.4=py37_0\n",
      "  - widgetsnbextension=3.4.2=py37_0\n",
      "  - wrapt=1.10.11=py37h14c3975_2\n",
      "  - xgboost=0.80=py37hf484d3e_1001\n",
      "  - xz=5.2.4=h14c3975_4\n",
      "  - yaml=0.1.7=had09818_2\n",
      "  - zeromq=4.3.1=he6710b0_3\n",
      "  - zlib=1.2.11=h7b6447c_3\n",
      "  - zstd=1.3.7=h0b5b093_0\n",
      "prefix: /opt/conda/envs/custom\n",
      "\n",
      "\n",
      "Note: you may need to restart the kernel to use updated packages.\n"
     ]
    }
   ],
   "source": [
    "conda env export"
   ]
  },
  {
   "cell_type": "code",
   "execution_count": null,
   "metadata": {},
   "outputs": [],
   "source": [
    "#!conda list"
   ]
  },
  {
   "cell_type": "code",
   "execution_count": null,
   "metadata": {},
   "outputs": [],
   "source": [
    "#!pip list"
   ]
  },
  {
   "cell_type": "markdown",
   "metadata": {},
   "source": [
    "### Import packages"
   ]
  },
  {
   "cell_type": "code",
   "execution_count": 11,
   "metadata": {},
   "outputs": [],
   "source": [
    "%load_ext autoreload\n",
    "%autoreload 2\n",
    "\n",
    "%matplotlib inline"
   ]
  },
  {
   "cell_type": "code",
   "execution_count": 35,
   "metadata": {},
   "outputs": [],
   "source": [
    "from fastai.imports import *\n",
    "import sys\n",
    "import pandas as pd\n",
    "from sklearn import model_selection\n",
    "import xgboost as xgb\n",
    "import pickle\n",
    "import datetime\n",
    "import numpy as np"
   ]
  },
  {
   "cell_type": "markdown",
   "metadata": {},
   "source": [
    "### Set random seed"
   ]
  },
  {
   "cell_type": "code",
   "execution_count": 36,
   "metadata": {},
   "outputs": [],
   "source": [
    "# Set a seed value: \n",
    "seed_value= 42  \n",
    "\n",
    "\n",
    "# Set `python` built-in pseudo-random generator at a fixed value: \n",
    "random.seed(seed_value) \n",
    "\n",
    "# Set `numpy` pseudo-random generator at a fixed value:\n",
    "np.random.seed(seed_value) \n",
    "\n",
    "# Set `torch` pseudo-random generator at a fixed value:\n",
    "torch.manual_seed(seed_value)\n",
    "torch.backends.cudnn.deterministic = True \n",
    "torch.backends.cudnn.benchmark = False\n",
    "    \n",
    "if torch.cuda.is_available():\n",
    "    torch.cuda.manual_seed(seed_value)\n",
    "    torch.cuda.manual_seed_all(seed_value)"
   ]
  },
  {
   "cell_type": "markdown",
   "metadata": {},
   "source": [
    "### Define shared functions"
   ]
  },
  {
   "cell_type": "code",
   "execution_count": null,
   "metadata": {},
   "outputs": [],
   "source": [
    "def display_all(df):\n",
    "    with pd.option_context(\"display.max_rows\", 1000, \"display.max_columns\", 1000): \n",
    "        display(df)"
   ]
  },
  {
   "cell_type": "markdown",
   "metadata": {},
   "source": [
    "## Stage 2: train"
   ]
  },
  {
   "cell_type": "markdown",
   "metadata": {},
   "source": [
    "### Define loss functions"
   ]
  },
  {
   "cell_type": "code",
   "execution_count": 13,
   "metadata": {},
   "outputs": [],
   "source": [
    "def ToWeight(y):\n",
    "    w = np.zeros(y.shape, dtype=float)\n",
    "    ind = y != 0\n",
    "    w[ind] = 1./(y[ind]**2)\n",
    "    return w\n",
    "\n",
    "\n",
    "def rmspe(yhat, y):\n",
    "    w = ToWeight(y)\n",
    "    rmspe = np.sqrt(np.mean( w * (y - yhat)**2 ))\n",
    "    return rmspe\n",
    "\n",
    "\n",
    "def rmspe_xg(yhat, y):\n",
    "    y = y.get_label()\n",
    "    y = np.exp(y) - 1\n",
    "    yhat = np.exp(yhat) - 1\n",
    "    w = ToWeight(y)\n",
    "    rmspe = np.sqrt(np.mean(w * (y - yhat)**2))\n",
    "    return \"rmspe\", rmspe"
   ]
  },
  {
   "cell_type": "markdown",
   "metadata": {},
   "source": [
    "### Fill training set and validation set"
   ]
  },
  {
   "cell_type": "code",
   "execution_count": 15,
   "metadata": {},
   "outputs": [
    {
     "name": "stdout",
     "output_type": "stream",
     "text": [
      "The input data frame ../data/processed/tst-train.csv size is (1017209, 37)\n",
      "\n"
     ]
    }
   ],
   "source": [
    "df_processed_train = pd.read_csv(PROCESSED_TRAIN_CSV)\n",
    "print('The input data frame {} size is {}\\n'.format(PROCESSED_TRAIN_CSV, df_processed_train.shape))"
   ]
  },
  {
   "cell_type": "markdown",
   "metadata": {},
   "source": [
    "In time series data, cross-validation is not random. Instead, our holdout data is generally the most recent data, as it would be in real application. This issue is discussed in detail in [this post](https://www.fast.ai/2017/11/13/validation-sets/) on our web site.\n",
    "\n",
    "One approach is to take the last 25% of rows (sorted by date) as our validation set."
   ]
  },
  {
   "cell_type": "code",
   "execution_count": 16,
   "metadata": {},
   "outputs": [],
   "source": [
    "df_processed_train = df_processed_train.loc[:, df_processed_train.columns != 'Date']\n",
    "df_train, df_valid = model_selection.train_test_split(df_processed_train, test_size=.25, shuffle=False)"
   ]
  },
  {
   "cell_type": "markdown",
   "metadata": {},
   "source": [
    "An even better option for picking a validation set is using the exact same length of time period as the test set uses - this is implemented here:"
   ]
  },
  {
   "cell_type": "code",
   "execution_count": 17,
   "metadata": {},
   "outputs": [],
   "source": [
    "#TODO\n",
    "#val_idx = np.flatnonzero((df.index<=datetime.datetime(2014,9,17)) & (df.index>=datetime.datetime(2014,8,1)))"
   ]
  },
  {
   "cell_type": "code",
   "execution_count": 18,
   "metadata": {},
   "outputs": [
    {
     "name": "stdout",
     "output_type": "stream",
     "text": [
      "Train set size: 762906; Validation set size: 254303\n",
      "\n"
     ]
    }
   ],
   "source": [
    "print('Train set size: {}; Validation set size: {}\\n'.format(df_train.shape[0], df_valid.shape[0]))\n",
    "#df_train.describe(include='all').T"
   ]
  },
  {
   "cell_type": "code",
   "execution_count": 19,
   "metadata": {},
   "outputs": [],
   "source": [
    "#df_train.head().T"
   ]
  },
  {
   "cell_type": "code",
   "execution_count": 20,
   "metadata": {},
   "outputs": [],
   "source": [
    "#df_train.tail().T"
   ]
  },
  {
   "cell_type": "code",
   "execution_count": 21,
   "metadata": {},
   "outputs": [],
   "source": [
    "#df_valid.head().T"
   ]
  },
  {
   "cell_type": "code",
   "execution_count": 22,
   "metadata": {},
   "outputs": [],
   "source": [
    "#df_valid.tail().T"
   ]
  },
  {
   "cell_type": "code",
   "execution_count": 23,
   "metadata": {
    "scrolled": true
   },
   "outputs": [],
   "source": [
    "#features = ['Store', 'CompetitionDistance', 'CompetitionOpenSinceMonth', 'CompetitionOpenSinceYear', 'Promo', 'Promo2', 'Promo2SinceWeek', 'Promo2SinceYear', 'SchoolHoliday', 'DayOfWeek', 'month', 'day', 'year', 'StoreType', 'Assortment']\n",
    "#X_train = df_train[fetaures];\n",
    "X_train = df_train.loc[:, df_train.columns != 'Sales']\n",
    "y_train = np.log(df_train[\"Sales\"] + 1) # perchè?\n",
    "\n",
    "#X_valid = df_valid[features]\n",
    "X_valid = df_valid.loc[:, df_valid.columns != 'Sales']\n",
    "y_valid = np.log(df_valid[\"Sales\"] + 1) # perchè?\n",
    "\n",
    "\n",
    "dm_train = xgb.DMatrix(X_train, y_train)\n",
    "dm_valid = xgb.DMatrix(X_valid, y_valid)"
   ]
  },
  {
   "cell_type": "markdown",
   "metadata": {},
   "source": [
    "### Setup hyper parameters"
   ]
  },
  {
   "cell_type": "code",
   "execution_count": 24,
   "metadata": {},
   "outputs": [],
   "source": [
    "watchlist = [(dm_valid, 'valid'), (dm_train, 'train')]\n",
    "\n",
    "params = {\"objective\": \"reg:linear\",\n",
    "          \"eta\": 0.3,\n",
    "          \"max_depth\": 8,\n",
    "          \"subsample\": 0.7,\n",
    "          \"colsample_bytree\": 0.7,\n",
    "          \"silent\": 1\n",
    "          }\n",
    "num_trees = 300"
   ]
  },
  {
   "cell_type": "markdown",
   "metadata": {},
   "source": [
    "### Train model"
   ]
  },
  {
   "cell_type": "code",
   "execution_count": 25,
   "metadata": {},
   "outputs": [
    {
     "name": "stdout",
     "output_type": "stream",
     "text": [
      "[0]\tvalid-rmse:5.29132\ttrain-rmse:5.27622\tvalid-rmspe:0.90469\ttrain-rmspe:0.909458\n",
      "Multiple eval metrics have been passed: 'train-rmspe' will be used for early stopping.\n",
      "\n",
      "Will train until train-rmspe hasn't improved in 50 rounds.\n",
      "[1]\tvalid-rmse:3.81946\ttrain-rmse:3.73742\tvalid-rmspe:0.892515\ttrain-rmspe:0.896094\n",
      "[2]\tvalid-rmse:2.70989\ttrain-rmse:2.61962\tvalid-rmspe:0.85756\ttrain-rmspe:0.858045\n",
      "[3]\tvalid-rmse:1.93575\ttrain-rmse:1.83739\tvalid-rmspe:0.791365\ttrain-rmspe:0.785987\n",
      "[4]\tvalid-rmse:1.3987\ttrain-rmse:1.29075\tvalid-rmspe:0.697942\ttrain-rmspe:0.684082\n",
      "[5]\tvalid-rmse:1.0285\ttrain-rmse:0.909838\tvalid-rmspe:0.591205\ttrain-rmspe:0.567349\n",
      "[6]\tvalid-rmse:0.774563\ttrain-rmse:0.645268\tvalid-rmspe:0.486362\ttrain-rmspe:0.452599\n",
      "[7]\tvalid-rmse:0.619591\ttrain-rmse:0.472604\tvalid-rmspe:0.398685\ttrain-rmspe:0.355395\n",
      "[8]\tvalid-rmse:0.504042\ttrain-rmse:0.345525\tvalid-rmspe:0.325564\ttrain-rmspe:0.274253\n",
      "[9]\tvalid-rmse:0.430986\ttrain-rmse:0.259482\tvalid-rmspe:0.270717\ttrain-rmspe:0.214798\n",
      "[10]\tvalid-rmse:0.386745\ttrain-rmse:0.204057\tvalid-rmspe:0.234194\ttrain-rmspe:0.1738\n",
      "[11]\tvalid-rmse:0.357872\ttrain-rmse:0.169189\tvalid-rmspe:0.210793\ttrain-rmspe:0.148135\n",
      "[12]\tvalid-rmse:0.338716\ttrain-rmse:0.147518\tvalid-rmspe:0.195244\ttrain-rmspe:0.133441\n",
      "[13]\tvalid-rmse:0.327099\ttrain-rmse:0.134339\tvalid-rmspe:0.186301\ttrain-rmspe:0.124455\n",
      "[14]\tvalid-rmse:0.319841\ttrain-rmse:0.126791\tvalid-rmspe:0.181282\ttrain-rmspe:0.120675\n",
      "[15]\tvalid-rmse:0.314425\ttrain-rmse:0.121006\tvalid-rmspe:0.177192\ttrain-rmspe:0.116815\n",
      "[16]\tvalid-rmse:0.310924\ttrain-rmse:0.116225\tvalid-rmspe:0.173859\ttrain-rmspe:0.11314\n",
      "[17]\tvalid-rmse:0.308051\ttrain-rmse:0.112139\tvalid-rmspe:0.170931\ttrain-rmspe:0.109746\n",
      "[18]\tvalid-rmse:0.307287\ttrain-rmse:0.109873\tvalid-rmspe:0.170224\ttrain-rmspe:0.108113\n",
      "[19]\tvalid-rmse:0.306301\ttrain-rmse:0.108955\tvalid-rmspe:0.169561\ttrain-rmspe:0.107585\n",
      "[20]\tvalid-rmse:0.304674\ttrain-rmse:0.106021\tvalid-rmspe:0.167581\ttrain-rmspe:0.10484\n",
      "[21]\tvalid-rmse:0.303868\ttrain-rmse:0.104475\tvalid-rmspe:0.167233\ttrain-rmspe:0.103838\n",
      "[22]\tvalid-rmse:0.303148\ttrain-rmse:0.104179\tvalid-rmspe:0.166938\ttrain-rmspe:0.103685\n",
      "[23]\tvalid-rmse:0.301841\ttrain-rmse:0.101865\tvalid-rmspe:0.165556\ttrain-rmspe:0.101624\n",
      "[24]\tvalid-rmse:0.303186\ttrain-rmse:0.100899\tvalid-rmspe:0.165346\ttrain-rmspe:0.100776\n",
      "[25]\tvalid-rmse:0.302285\ttrain-rmse:0.098104\tvalid-rmspe:0.163894\ttrain-rmspe:0.097906\n",
      "[26]\tvalid-rmse:0.302158\ttrain-rmse:0.097369\tvalid-rmspe:0.164158\ttrain-rmspe:0.09727\n",
      "[27]\tvalid-rmse:0.301437\ttrain-rmse:0.095262\tvalid-rmspe:0.162928\ttrain-rmspe:0.095007\n",
      "[28]\tvalid-rmse:0.300886\ttrain-rmse:0.093528\tvalid-rmspe:0.162002\ttrain-rmspe:0.093195\n",
      "[29]\tvalid-rmse:0.300536\ttrain-rmse:0.092556\tvalid-rmspe:0.1615\ttrain-rmspe:0.092203\n",
      "[30]\tvalid-rmse:0.300028\ttrain-rmse:0.090967\tvalid-rmspe:0.160674\ttrain-rmspe:0.090503\n",
      "[31]\tvalid-rmse:0.300653\ttrain-rmse:0.089786\tvalid-rmspe:0.160614\ttrain-rmspe:0.089388\n",
      "[32]\tvalid-rmse:0.300109\ttrain-rmse:0.088009\tvalid-rmspe:0.15978\ttrain-rmspe:0.08753\n",
      "[33]\tvalid-rmse:0.299882\ttrain-rmse:0.087268\tvalid-rmspe:0.159343\ttrain-rmspe:0.086691\n",
      "[34]\tvalid-rmse:0.299519\ttrain-rmse:0.086091\tvalid-rmspe:0.158691\ttrain-rmspe:0.085431\n",
      "[35]\tvalid-rmse:0.299013\ttrain-rmse:0.084462\tvalid-rmspe:0.157881\ttrain-rmspe:0.083714\n",
      "[36]\tvalid-rmse:0.29851\ttrain-rmse:0.082895\tvalid-rmspe:0.157037\ttrain-rmspe:0.08194\n",
      "[37]\tvalid-rmse:0.297907\ttrain-rmse:0.080796\tvalid-rmspe:0.156016\ttrain-rmspe:0.079656\n",
      "[38]\tvalid-rmse:0.298244\ttrain-rmse:0.079738\tvalid-rmspe:0.155753\ttrain-rmspe:0.078717\n",
      "[39]\tvalid-rmse:0.297794\ttrain-rmse:0.079089\tvalid-rmspe:0.155308\ttrain-rmspe:0.078109\n",
      "[40]\tvalid-rmse:0.297587\ttrain-rmse:0.078306\tvalid-rmspe:0.154982\ttrain-rmspe:0.077294\n",
      "[41]\tvalid-rmse:0.297412\ttrain-rmse:0.077683\tvalid-rmspe:0.154693\ttrain-rmspe:0.076652\n",
      "[42]\tvalid-rmse:0.296901\ttrain-rmse:0.076448\tvalid-rmspe:0.154165\ttrain-rmspe:0.075374\n",
      "[43]\tvalid-rmse:0.296485\ttrain-rmse:0.075052\tvalid-rmspe:0.153492\ttrain-rmspe:0.073888\n",
      "[44]\tvalid-rmse:0.296109\ttrain-rmse:0.073563\tvalid-rmspe:0.152792\ttrain-rmspe:0.072246\n",
      "[45]\tvalid-rmse:0.296051\ttrain-rmse:0.073116\tvalid-rmspe:0.152633\ttrain-rmspe:0.071835\n",
      "[46]\tvalid-rmse:0.295856\ttrain-rmse:0.072568\tvalid-rmspe:0.152354\ttrain-rmspe:0.071265\n",
      "[47]\tvalid-rmse:0.295769\ttrain-rmse:0.072202\tvalid-rmspe:0.152221\ttrain-rmspe:0.070872\n",
      "[48]\tvalid-rmse:0.294946\ttrain-rmse:0.071929\tvalid-rmspe:0.151834\ttrain-rmspe:0.070609\n",
      "[49]\tvalid-rmse:0.294792\ttrain-rmse:0.071263\tvalid-rmspe:0.151641\ttrain-rmspe:0.069942\n",
      "[50]\tvalid-rmse:0.294685\ttrain-rmse:0.070597\tvalid-rmspe:0.151444\ttrain-rmspe:0.069233\n",
      "[51]\tvalid-rmse:0.295035\ttrain-rmse:0.07041\tvalid-rmspe:0.151534\ttrain-rmspe:0.069038\n",
      "[52]\tvalid-rmse:0.294815\ttrain-rmse:0.06953\tvalid-rmspe:0.151151\ttrain-rmspe:0.068067\n",
      "[53]\tvalid-rmse:0.294514\ttrain-rmse:0.068251\tvalid-rmspe:0.150653\ttrain-rmspe:0.066731\n",
      "[54]\tvalid-rmse:0.294333\ttrain-rmse:0.067629\tvalid-rmspe:0.150368\ttrain-rmspe:0.066085\n",
      "[55]\tvalid-rmse:0.294243\ttrain-rmse:0.067411\tvalid-rmspe:0.1502\ttrain-rmspe:0.065854\n",
      "[56]\tvalid-rmse:0.29401\ttrain-rmse:0.066306\tvalid-rmspe:0.14976\ttrain-rmspe:0.064699\n",
      "[57]\tvalid-rmse:0.293908\ttrain-rmse:0.066032\tvalid-rmspe:0.149645\ttrain-rmspe:0.06444\n",
      "[58]\tvalid-rmse:0.293766\ttrain-rmse:0.065495\tvalid-rmspe:0.149412\ttrain-rmspe:0.063901\n",
      "[59]\tvalid-rmse:0.293667\ttrain-rmse:0.06495\tvalid-rmspe:0.149242\ttrain-rmspe:0.063362\n",
      "[60]\tvalid-rmse:0.29368\ttrain-rmse:0.064731\tvalid-rmspe:0.149262\ttrain-rmspe:0.06315\n",
      "[61]\tvalid-rmse:0.293614\ttrain-rmse:0.064344\tvalid-rmspe:0.149143\ttrain-rmspe:0.062748\n",
      "[62]\tvalid-rmse:0.293576\ttrain-rmse:0.064034\tvalid-rmspe:0.149044\ttrain-rmspe:0.062432\n",
      "[63]\tvalid-rmse:0.293576\ttrain-rmse:0.063962\tvalid-rmspe:0.149035\ttrain-rmspe:0.062359\n",
      "[64]\tvalid-rmse:0.293219\ttrain-rmse:0.0639\tvalid-rmspe:0.148803\ttrain-rmspe:0.062297\n",
      "[65]\tvalid-rmse:0.293207\ttrain-rmse:0.063723\tvalid-rmspe:0.148774\ttrain-rmspe:0.062122\n",
      "[66]\tvalid-rmse:0.293138\ttrain-rmse:0.063487\tvalid-rmspe:0.148702\ttrain-rmspe:0.061881\n",
      "[67]\tvalid-rmse:0.292903\ttrain-rmse:0.06307\tvalid-rmspe:0.148507\ttrain-rmspe:0.061475\n",
      "[68]\tvalid-rmse:0.292644\ttrain-rmse:0.062738\tvalid-rmspe:0.14806\ttrain-rmspe:0.061198\n",
      "[69]\tvalid-rmse:0.292594\ttrain-rmse:0.062483\tvalid-rmspe:0.147948\ttrain-rmspe:0.060945\n",
      "[70]\tvalid-rmse:0.292523\ttrain-rmse:0.062356\tvalid-rmspe:0.147894\ttrain-rmspe:0.060811\n",
      "[71]\tvalid-rmse:0.292467\ttrain-rmse:0.061897\tvalid-rmspe:0.147758\ttrain-rmspe:0.060347\n",
      "[72]\tvalid-rmse:0.292342\ttrain-rmse:0.061476\tvalid-rmspe:0.147651\ttrain-rmspe:0.059906\n",
      "[73]\tvalid-rmse:0.292219\ttrain-rmse:0.061174\tvalid-rmspe:0.147524\ttrain-rmspe:0.059599\n",
      "[74]\tvalid-rmse:0.292202\ttrain-rmse:0.061045\tvalid-rmspe:0.147485\ttrain-rmspe:0.059461\n",
      "[75]\tvalid-rmse:0.292115\ttrain-rmse:0.060618\tvalid-rmspe:0.147357\ttrain-rmspe:0.059042\n",
      "[76]\tvalid-rmse:0.292065\ttrain-rmse:0.060547\tvalid-rmspe:0.147345\ttrain-rmspe:0.058971\n",
      "[77]\tvalid-rmse:0.292026\ttrain-rmse:0.060341\tvalid-rmspe:0.147288\ttrain-rmspe:0.058803\n",
      "[78]\tvalid-rmse:0.291998\ttrain-rmse:0.060161\tvalid-rmspe:0.147248\ttrain-rmspe:0.058623\n",
      "[79]\tvalid-rmse:0.291692\ttrain-rmse:0.059953\tvalid-rmspe:0.147011\ttrain-rmspe:0.058459\n",
      "[80]\tvalid-rmse:0.291786\ttrain-rmse:0.059794\tvalid-rmspe:0.147059\ttrain-rmspe:0.058319\n",
      "[81]\tvalid-rmse:0.291687\ttrain-rmse:0.059685\tvalid-rmspe:0.146912\ttrain-rmspe:0.058201\n",
      "[82]\tvalid-rmse:0.291667\ttrain-rmse:0.059584\tvalid-rmspe:0.146865\ttrain-rmspe:0.058098\n",
      "[83]\tvalid-rmse:0.29166\ttrain-rmse:0.059519\tvalid-rmspe:0.146848\ttrain-rmspe:0.058029\n",
      "[84]\tvalid-rmse:0.291626\ttrain-rmse:0.059236\tvalid-rmspe:0.146778\ttrain-rmspe:0.057781\n",
      "[85]\tvalid-rmse:0.291596\ttrain-rmse:0.059153\tvalid-rmspe:0.146753\ttrain-rmspe:0.057707\n",
      "[86]\tvalid-rmse:0.291553\ttrain-rmse:0.058983\tvalid-rmspe:0.146682\ttrain-rmspe:0.05755\n",
      "[87]\tvalid-rmse:0.291527\ttrain-rmse:0.0588\tvalid-rmspe:0.14662\ttrain-rmspe:0.057368\n",
      "[88]\tvalid-rmse:0.291502\ttrain-rmse:0.058723\tvalid-rmspe:0.146593\ttrain-rmspe:0.057284\n",
      "[89]\tvalid-rmse:0.291569\ttrain-rmse:0.058639\tvalid-rmspe:0.146583\ttrain-rmspe:0.057204\n",
      "[90]\tvalid-rmse:0.291447\ttrain-rmse:0.058434\tvalid-rmspe:0.146489\ttrain-rmspe:0.056995\n",
      "[91]\tvalid-rmse:0.291387\ttrain-rmse:0.058037\tvalid-rmspe:0.146395\ttrain-rmspe:0.056662\n",
      "[92]\tvalid-rmse:0.290925\ttrain-rmse:0.057927\tvalid-rmspe:0.146206\ttrain-rmspe:0.056561\n",
      "[93]\tvalid-rmse:0.290905\ttrain-rmse:0.057786\tvalid-rmspe:0.146187\ttrain-rmspe:0.056418\n"
     ]
    },
    {
     "name": "stdout",
     "output_type": "stream",
     "text": [
      "[94]\tvalid-rmse:0.290842\ttrain-rmse:0.057472\tvalid-rmspe:0.14608\ttrain-rmspe:0.056108\n",
      "[95]\tvalid-rmse:0.290807\ttrain-rmse:0.057238\tvalid-rmspe:0.146013\ttrain-rmspe:0.055883\n",
      "[96]\tvalid-rmse:0.290747\ttrain-rmse:0.057066\tvalid-rmspe:0.145931\ttrain-rmspe:0.055703\n",
      "[97]\tvalid-rmse:0.290717\ttrain-rmse:0.056932\tvalid-rmspe:0.145891\ttrain-rmspe:0.055564\n",
      "[98]\tvalid-rmse:0.290634\ttrain-rmse:0.056644\tvalid-rmspe:0.145805\ttrain-rmspe:0.055293\n",
      "[99]\tvalid-rmse:0.290544\ttrain-rmse:0.056507\tvalid-rmspe:0.145719\ttrain-rmspe:0.055163\n",
      "[100]\tvalid-rmse:0.290536\ttrain-rmse:0.056423\tvalid-rmspe:0.145707\ttrain-rmspe:0.055099\n",
      "[101]\tvalid-rmse:0.290514\ttrain-rmse:0.056318\tvalid-rmspe:0.145672\ttrain-rmspe:0.054992\n",
      "[102]\tvalid-rmse:0.290496\ttrain-rmse:0.056237\tvalid-rmspe:0.145646\ttrain-rmspe:0.054907\n",
      "[103]\tvalid-rmse:0.290479\ttrain-rmse:0.056108\tvalid-rmspe:0.145565\ttrain-rmspe:0.054775\n",
      "[104]\tvalid-rmse:0.290469\ttrain-rmse:0.056032\tvalid-rmspe:0.145513\ttrain-rmspe:0.054703\n",
      "[105]\tvalid-rmse:0.290438\ttrain-rmse:0.055888\tvalid-rmspe:0.14547\ttrain-rmspe:0.054557\n",
      "[106]\tvalid-rmse:0.290448\ttrain-rmse:0.055821\tvalid-rmspe:0.145465\ttrain-rmspe:0.054487\n",
      "[107]\tvalid-rmse:0.290395\ttrain-rmse:0.055717\tvalid-rmspe:0.145395\ttrain-rmspe:0.054377\n",
      "[108]\tvalid-rmse:0.290381\ttrain-rmse:0.055656\tvalid-rmspe:0.145377\ttrain-rmspe:0.054309\n",
      "[109]\tvalid-rmse:0.290354\ttrain-rmse:0.055492\tvalid-rmspe:0.145328\ttrain-rmspe:0.05415\n",
      "[110]\tvalid-rmse:0.290345\ttrain-rmse:0.055434\tvalid-rmspe:0.145318\ttrain-rmspe:0.054099\n",
      "[111]\tvalid-rmse:0.29033\ttrain-rmse:0.055341\tvalid-rmspe:0.145296\ttrain-rmspe:0.054003\n",
      "[112]\tvalid-rmse:0.290333\ttrain-rmse:0.055279\tvalid-rmspe:0.145276\ttrain-rmspe:0.053948\n",
      "[113]\tvalid-rmse:0.290312\ttrain-rmse:0.055192\tvalid-rmspe:0.145257\ttrain-rmspe:0.053863\n",
      "[114]\tvalid-rmse:0.290285\ttrain-rmse:0.05508\tvalid-rmspe:0.145245\ttrain-rmspe:0.053759\n",
      "[115]\tvalid-rmse:0.290274\ttrain-rmse:0.054981\tvalid-rmspe:0.145229\ttrain-rmspe:0.05366\n",
      "[116]\tvalid-rmse:0.290257\ttrain-rmse:0.054944\tvalid-rmspe:0.145181\ttrain-rmspe:0.053621\n",
      "[117]\tvalid-rmse:0.290211\ttrain-rmse:0.054749\tvalid-rmspe:0.145111\ttrain-rmspe:0.053416\n",
      "[118]\tvalid-rmse:0.290408\ttrain-rmse:0.054669\tvalid-rmspe:0.145136\ttrain-rmspe:0.053335\n",
      "[119]\tvalid-rmse:0.290382\ttrain-rmse:0.054572\tvalid-rmspe:0.145109\ttrain-rmspe:0.053231\n",
      "[120]\tvalid-rmse:0.29036\ttrain-rmse:0.054501\tvalid-rmspe:0.145081\ttrain-rmspe:0.05316\n",
      "[121]\tvalid-rmse:0.290352\ttrain-rmse:0.054324\tvalid-rmspe:0.145053\ttrain-rmspe:0.052992\n",
      "[122]\tvalid-rmse:0.290344\ttrain-rmse:0.054214\tvalid-rmspe:0.145054\ttrain-rmspe:0.052883\n",
      "[123]\tvalid-rmse:0.290324\ttrain-rmse:0.054118\tvalid-rmspe:0.145026\ttrain-rmspe:0.052791\n",
      "[124]\tvalid-rmse:0.290301\ttrain-rmse:0.05401\tvalid-rmspe:0.144996\ttrain-rmspe:0.052691\n",
      "[125]\tvalid-rmse:0.290303\ttrain-rmse:0.053969\tvalid-rmspe:0.144997\ttrain-rmspe:0.052647\n",
      "[126]\tvalid-rmse:0.290278\ttrain-rmse:0.053832\tvalid-rmspe:0.144962\ttrain-rmspe:0.052527\n",
      "[127]\tvalid-rmse:0.290265\ttrain-rmse:0.053758\tvalid-rmspe:0.144982\ttrain-rmspe:0.052463\n",
      "[128]\tvalid-rmse:0.290222\ttrain-rmse:0.053618\tvalid-rmspe:0.144944\ttrain-rmspe:0.052325\n",
      "[129]\tvalid-rmse:0.290213\ttrain-rmse:0.053532\tvalid-rmspe:0.144922\ttrain-rmspe:0.052238\n",
      "[130]\tvalid-rmse:0.29021\ttrain-rmse:0.05348\tvalid-rmspe:0.144911\ttrain-rmspe:0.05219\n",
      "[131]\tvalid-rmse:0.290556\ttrain-rmse:0.053459\tvalid-rmspe:0.145121\ttrain-rmspe:0.05217\n",
      "[132]\tvalid-rmse:0.290549\ttrain-rmse:0.053364\tvalid-rmspe:0.145108\ttrain-rmspe:0.052079\n",
      "[133]\tvalid-rmse:0.290547\ttrain-rmse:0.053245\tvalid-rmspe:0.145076\ttrain-rmspe:0.051966\n",
      "[134]\tvalid-rmse:0.290537\ttrain-rmse:0.053223\tvalid-rmspe:0.145067\ttrain-rmspe:0.051946\n",
      "[135]\tvalid-rmse:0.29052\ttrain-rmse:0.0532\tvalid-rmspe:0.14506\ttrain-rmspe:0.051922\n",
      "[136]\tvalid-rmse:0.290511\ttrain-rmse:0.053141\tvalid-rmspe:0.145042\ttrain-rmspe:0.051867\n",
      "[137]\tvalid-rmse:0.290504\ttrain-rmse:0.053085\tvalid-rmspe:0.145037\ttrain-rmspe:0.051813\n",
      "[138]\tvalid-rmse:0.290432\ttrain-rmse:0.052952\tvalid-rmspe:0.145083\ttrain-rmspe:0.051702\n",
      "[139]\tvalid-rmse:0.29039\ttrain-rmse:0.052916\tvalid-rmspe:0.145077\ttrain-rmspe:0.051663\n",
      "[140]\tvalid-rmse:0.290379\ttrain-rmse:0.05285\tvalid-rmspe:0.145069\ttrain-rmspe:0.051603\n",
      "[141]\tvalid-rmse:0.290032\ttrain-rmse:0.052819\tvalid-rmspe:0.145138\ttrain-rmspe:0.051572\n",
      "[142]\tvalid-rmse:0.28997\ttrain-rmse:0.052712\tvalid-rmspe:0.145061\ttrain-rmspe:0.051455\n",
      "[143]\tvalid-rmse:0.289952\ttrain-rmse:0.052656\tvalid-rmspe:0.145035\ttrain-rmspe:0.051401\n",
      "[144]\tvalid-rmse:0.289927\ttrain-rmse:0.052554\tvalid-rmspe:0.144985\ttrain-rmspe:0.05131\n",
      "[145]\tvalid-rmse:0.28989\ttrain-rmse:0.052444\tvalid-rmspe:0.144955\ttrain-rmspe:0.051209\n",
      "[146]\tvalid-rmse:0.289874\ttrain-rmse:0.052316\tvalid-rmspe:0.144962\ttrain-rmspe:0.051095\n",
      "[147]\tvalid-rmse:0.289861\ttrain-rmse:0.052264\tvalid-rmspe:0.144956\ttrain-rmspe:0.051042\n",
      "[148]\tvalid-rmse:0.289856\ttrain-rmse:0.052217\tvalid-rmspe:0.144957\ttrain-rmspe:0.050997\n",
      "[149]\tvalid-rmse:0.289858\ttrain-rmse:0.052138\tvalid-rmspe:0.144951\ttrain-rmspe:0.050938\n",
      "[150]\tvalid-rmse:0.289855\ttrain-rmse:0.052096\tvalid-rmspe:0.144939\ttrain-rmspe:0.050895\n",
      "[151]\tvalid-rmse:0.289806\ttrain-rmse:0.051969\tvalid-rmspe:0.144891\ttrain-rmspe:0.050767\n",
      "[152]\tvalid-rmse:0.289798\ttrain-rmse:0.051888\tvalid-rmspe:0.144878\ttrain-rmspe:0.050695\n",
      "[153]\tvalid-rmse:0.289832\ttrain-rmse:0.05184\tvalid-rmspe:0.145081\ttrain-rmspe:0.05065\n",
      "[154]\tvalid-rmse:0.289807\ttrain-rmse:0.05178\tvalid-rmspe:0.145055\ttrain-rmspe:0.050584\n",
      "[155]\tvalid-rmse:0.289797\ttrain-rmse:0.051739\tvalid-rmspe:0.145044\ttrain-rmspe:0.050545\n",
      "[156]\tvalid-rmse:0.289794\ttrain-rmse:0.05171\tvalid-rmspe:0.145043\ttrain-rmspe:0.050519\n",
      "[157]\tvalid-rmse:0.289798\ttrain-rmse:0.051676\tvalid-rmspe:0.145043\ttrain-rmspe:0.050485\n",
      "[158]\tvalid-rmse:0.289804\ttrain-rmse:0.051608\tvalid-rmspe:0.145014\ttrain-rmspe:0.050417\n",
      "[159]\tvalid-rmse:0.28975\ttrain-rmse:0.051533\tvalid-rmspe:0.144992\ttrain-rmspe:0.050342\n",
      "[160]\tvalid-rmse:0.289741\ttrain-rmse:0.051477\tvalid-rmspe:0.144986\ttrain-rmspe:0.05029\n",
      "[161]\tvalid-rmse:0.289721\ttrain-rmse:0.051432\tvalid-rmspe:0.144977\ttrain-rmspe:0.050257\n",
      "[162]\tvalid-rmse:0.289699\ttrain-rmse:0.051351\tvalid-rmspe:0.144953\ttrain-rmspe:0.050172\n",
      "[163]\tvalid-rmse:0.289692\ttrain-rmse:0.051279\tvalid-rmspe:0.144943\ttrain-rmspe:0.050101\n",
      "[164]\tvalid-rmse:0.289693\ttrain-rmse:0.051263\tvalid-rmspe:0.144939\ttrain-rmspe:0.050085\n",
      "[165]\tvalid-rmse:0.289667\ttrain-rmse:0.051139\tvalid-rmspe:0.144901\ttrain-rmspe:0.049976\n",
      "[166]\tvalid-rmse:0.289601\ttrain-rmse:0.050974\tvalid-rmspe:0.144835\ttrain-rmspe:0.049816\n",
      "[167]\tvalid-rmse:0.289595\ttrain-rmse:0.050951\tvalid-rmspe:0.144814\ttrain-rmspe:0.049793\n",
      "[168]\tvalid-rmse:0.29027\ttrain-rmse:0.050907\tvalid-rmspe:0.145155\ttrain-rmspe:0.049755\n",
      "[169]\tvalid-rmse:0.290282\ttrain-rmse:0.050811\tvalid-rmspe:0.145153\ttrain-rmspe:0.049679\n",
      "[170]\tvalid-rmse:0.290269\ttrain-rmse:0.05076\tvalid-rmspe:0.145141\ttrain-rmspe:0.049627\n",
      "[171]\tvalid-rmse:0.290266\ttrain-rmse:0.050699\tvalid-rmspe:0.14513\ttrain-rmspe:0.049566\n",
      "[172]\tvalid-rmse:0.290237\ttrain-rmse:0.050624\tvalid-rmspe:0.145097\ttrain-rmspe:0.049492\n",
      "[173]\tvalid-rmse:0.290391\ttrain-rmse:0.050576\tvalid-rmspe:0.1452\ttrain-rmspe:0.049453\n",
      "[174]\tvalid-rmse:0.290387\ttrain-rmse:0.050496\tvalid-rmspe:0.145191\ttrain-rmspe:0.049388\n",
      "[175]\tvalid-rmse:0.290442\ttrain-rmse:0.050431\tvalid-rmspe:0.145221\ttrain-rmspe:0.04932\n",
      "[176]\tvalid-rmse:0.290525\ttrain-rmse:0.050371\tvalid-rmspe:0.145235\ttrain-rmspe:0.04926\n",
      "[177]\tvalid-rmse:0.290518\ttrain-rmse:0.050301\tvalid-rmspe:0.145268\ttrain-rmspe:0.049198\n",
      "[178]\tvalid-rmse:0.290502\ttrain-rmse:0.050208\tvalid-rmspe:0.145237\ttrain-rmspe:0.049122\n",
      "[179]\tvalid-rmse:0.290589\ttrain-rmse:0.050168\tvalid-rmspe:0.145212\ttrain-rmspe:0.049087\n",
      "[180]\tvalid-rmse:0.290599\ttrain-rmse:0.050155\tvalid-rmspe:0.145213\ttrain-rmspe:0.049075\n",
      "[181]\tvalid-rmse:0.290591\ttrain-rmse:0.050134\tvalid-rmspe:0.145208\ttrain-rmspe:0.049054\n",
      "[182]\tvalid-rmse:0.291077\ttrain-rmse:0.050112\tvalid-rmspe:0.14556\ttrain-rmspe:0.049033\n",
      "[183]\tvalid-rmse:0.291071\ttrain-rmse:0.050098\tvalid-rmspe:0.145542\ttrain-rmspe:0.049019\n",
      "[184]\tvalid-rmse:0.29115\ttrain-rmse:0.050056\tvalid-rmspe:0.14555\ttrain-rmspe:0.048977\n",
      "[185]\tvalid-rmse:0.291145\ttrain-rmse:0.049975\tvalid-rmspe:0.14554\ttrain-rmspe:0.048903\n",
      "[186]\tvalid-rmse:0.291099\ttrain-rmse:0.049933\tvalid-rmspe:0.145506\ttrain-rmspe:0.048862\n",
      "[187]\tvalid-rmse:0.291101\ttrain-rmse:0.049909\tvalid-rmspe:0.145507\ttrain-rmspe:0.048836\n"
     ]
    },
    {
     "name": "stdout",
     "output_type": "stream",
     "text": [
      "[188]\tvalid-rmse:0.291068\ttrain-rmse:0.049804\tvalid-rmspe:0.14547\ttrain-rmspe:0.048731\n",
      "[189]\tvalid-rmse:0.291066\ttrain-rmse:0.049767\tvalid-rmspe:0.145467\ttrain-rmspe:0.048693\n",
      "[190]\tvalid-rmse:0.291059\ttrain-rmse:0.049742\tvalid-rmspe:0.145463\ttrain-rmspe:0.048668\n",
      "[191]\tvalid-rmse:0.291014\ttrain-rmse:0.049666\tvalid-rmspe:0.145426\ttrain-rmspe:0.048595\n",
      "[192]\tvalid-rmse:0.290922\ttrain-rmse:0.049617\tvalid-rmspe:0.14535\ttrain-rmspe:0.048554\n",
      "[193]\tvalid-rmse:0.290927\ttrain-rmse:0.049587\tvalid-rmspe:0.145351\ttrain-rmspe:0.048528\n",
      "[194]\tvalid-rmse:0.290914\ttrain-rmse:0.049507\tvalid-rmspe:0.145343\ttrain-rmspe:0.048447\n",
      "[195]\tvalid-rmse:0.290807\ttrain-rmse:0.049459\tvalid-rmspe:0.145273\ttrain-rmspe:0.048403\n",
      "[196]\tvalid-rmse:0.290802\ttrain-rmse:0.0494\tvalid-rmspe:0.145259\ttrain-rmspe:0.048343\n",
      "[197]\tvalid-rmse:0.2909\ttrain-rmse:0.049366\tvalid-rmspe:0.145285\ttrain-rmspe:0.048311\n",
      "[198]\tvalid-rmse:0.290908\ttrain-rmse:0.04935\tvalid-rmspe:0.145289\ttrain-rmspe:0.048296\n",
      "[199]\tvalid-rmse:0.290904\ttrain-rmse:0.049293\tvalid-rmspe:0.145281\ttrain-rmspe:0.048244\n",
      "[200]\tvalid-rmse:0.29113\ttrain-rmse:0.049242\tvalid-rmspe:0.145426\ttrain-rmspe:0.048214\n",
      "[201]\tvalid-rmse:0.29112\ttrain-rmse:0.049192\tvalid-rmspe:0.145424\ttrain-rmspe:0.048169\n",
      "[202]\tvalid-rmse:0.291122\ttrain-rmse:0.049171\tvalid-rmspe:0.145424\ttrain-rmspe:0.048148\n",
      "[203]\tvalid-rmse:0.291118\ttrain-rmse:0.049132\tvalid-rmspe:0.145447\ttrain-rmspe:0.04811\n",
      "[204]\tvalid-rmse:0.291112\ttrain-rmse:0.049088\tvalid-rmspe:0.145443\ttrain-rmspe:0.048064\n",
      "[205]\tvalid-rmse:0.291275\ttrain-rmse:0.049054\tvalid-rmspe:0.145557\ttrain-rmspe:0.048031\n",
      "[206]\tvalid-rmse:0.291279\ttrain-rmse:0.048962\tvalid-rmspe:0.145548\ttrain-rmspe:0.047951\n",
      "[207]\tvalid-rmse:0.291256\ttrain-rmse:0.048888\tvalid-rmspe:0.145525\ttrain-rmspe:0.047875\n",
      "[208]\tvalid-rmse:0.291254\ttrain-rmse:0.048861\tvalid-rmspe:0.14552\ttrain-rmspe:0.047848\n",
      "[209]\tvalid-rmse:0.291251\ttrain-rmse:0.048836\tvalid-rmspe:0.145515\ttrain-rmspe:0.047823\n",
      "[210]\tvalid-rmse:0.291238\ttrain-rmse:0.048802\tvalid-rmspe:0.145496\ttrain-rmspe:0.047791\n",
      "[211]\tvalid-rmse:0.291178\ttrain-rmse:0.048769\tvalid-rmspe:0.145468\ttrain-rmspe:0.047756\n",
      "[212]\tvalid-rmse:0.291279\ttrain-rmse:0.048725\tvalid-rmspe:0.145573\ttrain-rmspe:0.047712\n",
      "[213]\tvalid-rmse:0.291232\ttrain-rmse:0.048641\tvalid-rmspe:0.145541\ttrain-rmspe:0.047642\n",
      "[214]\tvalid-rmse:0.291235\ttrain-rmse:0.048614\tvalid-rmspe:0.14555\ttrain-rmspe:0.047615\n",
      "[215]\tvalid-rmse:0.291231\ttrain-rmse:0.048579\tvalid-rmspe:0.145545\ttrain-rmspe:0.04758\n",
      "[216]\tvalid-rmse:0.291256\ttrain-rmse:0.048522\tvalid-rmspe:0.145563\ttrain-rmspe:0.04752\n",
      "[217]\tvalid-rmse:0.291251\ttrain-rmse:0.048479\tvalid-rmspe:0.145579\ttrain-rmspe:0.047485\n",
      "[218]\tvalid-rmse:0.291247\ttrain-rmse:0.048452\tvalid-rmspe:0.145577\ttrain-rmspe:0.047462\n",
      "[219]\tvalid-rmse:0.291241\ttrain-rmse:0.048355\tvalid-rmspe:0.145564\ttrain-rmspe:0.047381\n",
      "[220]\tvalid-rmse:0.291217\ttrain-rmse:0.0483\tvalid-rmspe:0.145532\ttrain-rmspe:0.047325\n",
      "[221]\tvalid-rmse:0.291191\ttrain-rmse:0.04827\tvalid-rmspe:0.145545\ttrain-rmspe:0.047295\n",
      "[222]\tvalid-rmse:0.291191\ttrain-rmse:0.048261\tvalid-rmspe:0.145551\ttrain-rmspe:0.047286\n",
      "[223]\tvalid-rmse:0.291177\ttrain-rmse:0.048211\tvalid-rmspe:0.14554\ttrain-rmspe:0.047239\n",
      "[224]\tvalid-rmse:0.291026\ttrain-rmse:0.048178\tvalid-rmspe:0.145788\ttrain-rmspe:0.047209\n",
      "[225]\tvalid-rmse:0.291025\ttrain-rmse:0.048165\tvalid-rmspe:0.145818\ttrain-rmspe:0.0472\n",
      "[226]\tvalid-rmse:0.291019\ttrain-rmse:0.048106\tvalid-rmspe:0.145806\ttrain-rmspe:0.047164\n",
      "[227]\tvalid-rmse:0.290853\ttrain-rmse:0.048037\tvalid-rmspe:0.145691\ttrain-rmspe:0.047095\n",
      "[228]\tvalid-rmse:0.290844\ttrain-rmse:0.047992\tvalid-rmspe:0.145674\ttrain-rmspe:0.047053\n",
      "[229]\tvalid-rmse:0.290845\ttrain-rmse:0.047959\tvalid-rmspe:0.145684\ttrain-rmspe:0.047023\n",
      "[230]\tvalid-rmse:0.290852\ttrain-rmse:0.047912\tvalid-rmspe:0.145681\ttrain-rmspe:0.046977\n",
      "[231]\tvalid-rmse:0.290867\ttrain-rmse:0.04787\tvalid-rmspe:0.14568\ttrain-rmspe:0.046942\n",
      "[232]\tvalid-rmse:0.290103\ttrain-rmse:0.047848\tvalid-rmspe:0.145319\ttrain-rmspe:0.046921\n",
      "[233]\tvalid-rmse:0.289889\ttrain-rmse:0.047835\tvalid-rmspe:0.145088\ttrain-rmspe:0.046908\n",
      "[234]\tvalid-rmse:0.289872\ttrain-rmse:0.047778\tvalid-rmspe:0.145086\ttrain-rmspe:0.046866\n",
      "[235]\tvalid-rmse:0.289771\ttrain-rmse:0.047745\tvalid-rmspe:0.145035\ttrain-rmspe:0.046832\n",
      "[236]\tvalid-rmse:0.289765\ttrain-rmse:0.047722\tvalid-rmspe:0.145029\ttrain-rmspe:0.046808\n",
      "[237]\tvalid-rmse:0.289758\ttrain-rmse:0.047686\tvalid-rmspe:0.14502\ttrain-rmspe:0.046773\n",
      "[238]\tvalid-rmse:0.289753\ttrain-rmse:0.047663\tvalid-rmspe:0.145015\ttrain-rmspe:0.046755\n",
      "[239]\tvalid-rmse:0.28975\ttrain-rmse:0.047627\tvalid-rmspe:0.14501\ttrain-rmspe:0.046722\n",
      "[240]\tvalid-rmse:0.289741\ttrain-rmse:0.047568\tvalid-rmspe:0.144998\ttrain-rmspe:0.046676\n",
      "[241]\tvalid-rmse:0.289735\ttrain-rmse:0.047522\tvalid-rmspe:0.14499\ttrain-rmspe:0.046634\n",
      "[242]\tvalid-rmse:0.289845\ttrain-rmse:0.047507\tvalid-rmspe:0.145147\ttrain-rmspe:0.04662\n",
      "[243]\tvalid-rmse:0.289833\ttrain-rmse:0.047476\tvalid-rmspe:0.145138\ttrain-rmspe:0.046589\n",
      "[244]\tvalid-rmse:0.289987\ttrain-rmse:0.047441\tvalid-rmspe:0.145243\ttrain-rmspe:0.046559\n",
      "[245]\tvalid-rmse:0.289941\ttrain-rmse:0.047406\tvalid-rmspe:0.14521\ttrain-rmspe:0.046522\n",
      "[246]\tvalid-rmse:0.289959\ttrain-rmse:0.047377\tvalid-rmspe:0.145211\ttrain-rmspe:0.046492\n",
      "[247]\tvalid-rmse:0.289884\ttrain-rmse:0.047359\tvalid-rmspe:0.145212\ttrain-rmspe:0.046475\n",
      "[248]\tvalid-rmse:0.289904\ttrain-rmse:0.047332\tvalid-rmspe:0.145204\ttrain-rmspe:0.046448\n",
      "[249]\tvalid-rmse:0.289897\ttrain-rmse:0.047305\tvalid-rmspe:0.145159\ttrain-rmspe:0.046421\n",
      "[250]\tvalid-rmse:0.289905\ttrain-rmse:0.047262\tvalid-rmspe:0.145156\ttrain-rmspe:0.04638\n",
      "[251]\tvalid-rmse:0.289926\ttrain-rmse:0.047255\tvalid-rmspe:0.145166\ttrain-rmspe:0.046373\n",
      "[252]\tvalid-rmse:0.289928\ttrain-rmse:0.047249\tvalid-rmspe:0.145164\ttrain-rmspe:0.046364\n",
      "[253]\tvalid-rmse:0.289924\ttrain-rmse:0.047205\tvalid-rmspe:0.145134\ttrain-rmspe:0.046321\n",
      "[254]\tvalid-rmse:0.289906\ttrain-rmse:0.047166\tvalid-rmspe:0.145121\ttrain-rmspe:0.046285\n",
      "[255]\tvalid-rmse:0.289898\ttrain-rmse:0.047101\tvalid-rmspe:0.145131\ttrain-rmspe:0.046252\n",
      "[256]\tvalid-rmse:0.289892\ttrain-rmse:0.047067\tvalid-rmspe:0.145123\ttrain-rmspe:0.046223\n",
      "[257]\tvalid-rmse:0.289824\ttrain-rmse:0.047042\tvalid-rmspe:0.145143\ttrain-rmspe:0.046197\n",
      "[258]\tvalid-rmse:0.289832\ttrain-rmse:0.047007\tvalid-rmspe:0.145149\ttrain-rmspe:0.046181\n",
      "[259]\tvalid-rmse:0.289849\ttrain-rmse:0.046968\tvalid-rmspe:0.145158\ttrain-rmspe:0.046146\n",
      "[260]\tvalid-rmse:0.289834\ttrain-rmse:0.046885\tvalid-rmspe:0.145138\ttrain-rmspe:0.046072\n",
      "[261]\tvalid-rmse:0.289831\ttrain-rmse:0.046863\tvalid-rmspe:0.145142\ttrain-rmspe:0.046053\n",
      "[262]\tvalid-rmse:0.289814\ttrain-rmse:0.046828\tvalid-rmspe:0.145126\ttrain-rmspe:0.046026\n",
      "[263]\tvalid-rmse:0.289815\ttrain-rmse:0.046797\tvalid-rmspe:0.145123\ttrain-rmspe:0.045996\n",
      "[264]\tvalid-rmse:0.289804\ttrain-rmse:0.046752\tvalid-rmspe:0.145109\ttrain-rmspe:0.045952\n",
      "[265]\tvalid-rmse:0.289796\ttrain-rmse:0.046729\tvalid-rmspe:0.145099\ttrain-rmspe:0.045926\n",
      "[266]\tvalid-rmse:0.289793\ttrain-rmse:0.046699\tvalid-rmspe:0.145092\ttrain-rmspe:0.045897\n",
      "[267]\tvalid-rmse:0.289789\ttrain-rmse:0.046659\tvalid-rmspe:0.145087\ttrain-rmspe:0.045859\n",
      "[268]\tvalid-rmse:0.289786\ttrain-rmse:0.046617\tvalid-rmspe:0.145079\ttrain-rmspe:0.045828\n",
      "[269]\tvalid-rmse:0.289789\ttrain-rmse:0.046584\tvalid-rmspe:0.145077\ttrain-rmspe:0.045794\n",
      "[270]\tvalid-rmse:0.289785\ttrain-rmse:0.046565\tvalid-rmspe:0.145076\ttrain-rmspe:0.045776\n",
      "[271]\tvalid-rmse:0.289785\ttrain-rmse:0.046528\tvalid-rmspe:0.145074\ttrain-rmspe:0.045739\n",
      "[272]\tvalid-rmse:0.289761\ttrain-rmse:0.046443\tvalid-rmspe:0.145061\ttrain-rmspe:0.045668\n",
      "[273]\tvalid-rmse:0.289747\ttrain-rmse:0.046384\tvalid-rmspe:0.145039\ttrain-rmspe:0.045613\n",
      "[274]\tvalid-rmse:0.289742\ttrain-rmse:0.046356\tvalid-rmspe:0.145032\ttrain-rmspe:0.045586\n",
      "[275]\tvalid-rmse:0.289732\ttrain-rmse:0.046331\tvalid-rmspe:0.145019\ttrain-rmspe:0.045562\n",
      "[276]\tvalid-rmse:0.28972\ttrain-rmse:0.046303\tvalid-rmspe:0.145008\ttrain-rmspe:0.045536\n",
      "[277]\tvalid-rmse:0.289708\ttrain-rmse:0.046283\tvalid-rmspe:0.145007\ttrain-rmspe:0.045518\n",
      "[278]\tvalid-rmse:0.289737\ttrain-rmse:0.046265\tvalid-rmspe:0.145025\ttrain-rmspe:0.045499\n",
      "[279]\tvalid-rmse:0.289767\ttrain-rmse:0.046235\tvalid-rmspe:0.145045\ttrain-rmspe:0.045478\n",
      "[280]\tvalid-rmse:0.289795\ttrain-rmse:0.046212\tvalid-rmspe:0.145051\ttrain-rmspe:0.045454\n",
      "[281]\tvalid-rmse:0.289792\ttrain-rmse:0.046183\tvalid-rmspe:0.145047\ttrain-rmspe:0.045426\n"
     ]
    },
    {
     "name": "stdout",
     "output_type": "stream",
     "text": [
      "[282]\tvalid-rmse:0.289782\ttrain-rmse:0.046161\tvalid-rmspe:0.145041\ttrain-rmspe:0.045405\n",
      "[283]\tvalid-rmse:0.289787\ttrain-rmse:0.046135\tvalid-rmspe:0.145046\ttrain-rmspe:0.045381\n",
      "[284]\tvalid-rmse:0.289814\ttrain-rmse:0.046119\tvalid-rmspe:0.145057\ttrain-rmspe:0.045365\n",
      "[285]\tvalid-rmse:0.289814\ttrain-rmse:0.046101\tvalid-rmspe:0.145052\ttrain-rmspe:0.045347\n",
      "[286]\tvalid-rmse:0.289643\ttrain-rmse:0.046093\tvalid-rmspe:0.144964\ttrain-rmspe:0.045337\n",
      "[287]\tvalid-rmse:0.289613\ttrain-rmse:0.046044\tvalid-rmspe:0.14496\ttrain-rmspe:0.045293\n",
      "[288]\tvalid-rmse:0.287914\ttrain-rmse:0.046007\tvalid-rmspe:0.144364\ttrain-rmspe:0.045254\n",
      "[289]\tvalid-rmse:0.287911\ttrain-rmse:0.04598\tvalid-rmspe:0.144359\ttrain-rmspe:0.04523\n",
      "[290]\tvalid-rmse:0.287912\ttrain-rmse:0.045945\tvalid-rmspe:0.14436\ttrain-rmspe:0.045201\n",
      "[291]\tvalid-rmse:0.287867\ttrain-rmse:0.045911\tvalid-rmspe:0.144348\ttrain-rmspe:0.045167\n",
      "[292]\tvalid-rmse:0.288124\ttrain-rmse:0.04589\tvalid-rmspe:0.14448\ttrain-rmspe:0.045148\n",
      "[293]\tvalid-rmse:0.288121\ttrain-rmse:0.045857\tvalid-rmspe:0.144472\ttrain-rmspe:0.045117\n",
      "[294]\tvalid-rmse:0.288151\ttrain-rmse:0.045828\tvalid-rmspe:0.144478\ttrain-rmspe:0.045088\n",
      "[295]\tvalid-rmse:0.288149\ttrain-rmse:0.045801\tvalid-rmspe:0.144472\ttrain-rmspe:0.045061\n",
      "[296]\tvalid-rmse:0.288153\ttrain-rmse:0.045774\tvalid-rmspe:0.144478\ttrain-rmspe:0.045033\n",
      "[297]\tvalid-rmse:0.288169\ttrain-rmse:0.045741\tvalid-rmspe:0.144483\ttrain-rmspe:0.045001\n",
      "[298]\tvalid-rmse:0.288146\ttrain-rmse:0.045721\tvalid-rmspe:0.144472\ttrain-rmspe:0.044985\n",
      "[299]\tvalid-rmse:0.288136\ttrain-rmse:0.045668\tvalid-rmspe:0.144458\ttrain-rmspe:0.044931\n"
     ]
    }
   ],
   "source": [
    "gbm = xgb.train(params, dm_train, num_trees, evals=watchlist, early_stopping_rounds=50, feval=rmspe_xg, verbose_eval=True)"
   ]
  },
  {
   "cell_type": "markdown",
   "metadata": {},
   "source": [
    "### Evaluate model"
   ]
  },
  {
   "cell_type": "code",
   "execution_count": 26,
   "metadata": {},
   "outputs": [],
   "source": [
    "def print_score(m, lossfunct=rmspe):\n",
    "    lf_train = lossfunct(np.exp(m.predict(xgb.DMatrix(X_train)))-1, np.exp(y_train)-1)\n",
    "    lf_valid = lossfunct(np.exp(m.predict(xgb.DMatrix(X_valid)))-1, np.exp(y_valid)-1)\n",
    "    res = [lf_train, lf_valid]\n",
    "    #if hasattr(m, 'oob_score_'): res.append(m.oob_score_)\n",
    "    print(res)"
   ]
  },
  {
   "cell_type": "code",
   "execution_count": 27,
   "metadata": {},
   "outputs": [
    {
     "name": "stdout",
     "output_type": "stream",
     "text": [
      "[0.04493089660236272, 0.1444584758207349]\n"
     ]
    }
   ],
   "source": [
    "print_score(gbm)"
   ]
  },
  {
   "cell_type": "markdown",
   "metadata": {},
   "source": [
    "### Save model"
   ]
  },
  {
   "cell_type": "code",
   "execution_count": 28,
   "metadata": {},
   "outputs": [],
   "source": [
    "pickle.dump(gbm, open(MODEL_PKL, 'wb'))"
   ]
  },
  {
   "cell_type": "code",
   "execution_count": 28,
   "metadata": {},
   "outputs": [],
   "source": [
    "# FINE"
   ]
  }
 ],
 "metadata": {
  "kernelspec": {
   "display_name": "Python 3",
   "language": "python",
   "name": "python3"
  },
  "language_info": {
   "codemirror_mode": {
    "name": "ipython",
    "version": 3
   },
   "file_extension": ".py",
   "mimetype": "text/x-python",
   "name": "python",
   "nbconvert_exporter": "python",
   "pygments_lexer": "ipython3",
   "version": "3.7.3"
  }
 },
 "nbformat": 4,
 "nbformat_minor": 2
}
